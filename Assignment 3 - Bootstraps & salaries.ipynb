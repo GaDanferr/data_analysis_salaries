{
 "cells": [
  {
   "cell_type": "markdown",
   "id": "fb6a02b8",
   "metadata": {},
   "source": [
    "# <font color=571B7E> Data Analysis Assignment Number Three - Bootstraps and Salaries </font>"
   ]
  },
  {
   "cell_type": "code",
   "execution_count": 1,
   "id": "f01f669c",
   "metadata": {},
   "outputs": [],
   "source": [
    "import pandas as pd \n",
    "import seaborn as sns\n",
    "import numpy as np\n",
    "import tqdm as tqdm\n",
    "from matplotlib import pyplot as plt\n",
    "\n",
    "df = pd.read_csv('ds_salaries.csv')"
   ]
  },
  {
   "cell_type": "markdown",
   "id": "8920efb1",
   "metadata": {},
   "source": [
    "# <font color = red>  Part One - Data Field salaries Dataset </font>"
   ]
  },
  {
   "cell_type": "markdown",
   "id": "500522a7",
   "metadata": {},
   "source": [
    "## <font color=blue> Preprocessing the Dataset </font>"
   ]
  },
  {
   "cell_type": "markdown",
   "id": "fa9daf16",
   "metadata": {},
   "source": [
    "Before we begin answering the questions in this assignment in order to avoid misjudgments, we should analyze the dataset we are working with."
   ]
  },
  {
   "cell_type": "markdown",
   "id": "a3b3ce4b",
   "metadata": {},
   "source": [
    "What is the shape of the data set:"
   ]
  },
  {
   "cell_type": "code",
   "execution_count": 2,
   "id": "6f517678",
   "metadata": {},
   "outputs": [
    {
     "name": "stdout",
     "output_type": "stream",
     "text": [
      "The data set has 1565 rows and 6 columns.\n"
     ]
    }
   ],
   "source": [
    "print(f'The data set has {df.shape[0]} rows and {df.shape[1]} columns.')"
   ]
  },
  {
   "cell_type": "markdown",
   "id": "4aa98921",
   "metadata": {},
   "source": [
    "Are there any missing values in our dataset?"
   ]
  },
  {
   "cell_type": "code",
   "execution_count": 58,
   "id": "40004c5b",
   "metadata": {},
   "outputs": [
    {
     "data": {
      "text/plain": [
       "experience_level    0\n",
       "employment_type     0\n",
       "job_title           0\n",
       "salary_in_usd       0\n",
       "remote_ratio        0\n",
       "company_size        0\n",
       "dtype: int64"
      ]
     },
     "execution_count": 58,
     "metadata": {},
     "output_type": "execute_result"
    }
   ],
   "source": [
    "df.isna().sum()"
   ]
  },
  {
   "cell_type": "markdown",
   "id": "2b49c7f2",
   "metadata": {},
   "source": [
    "It appears the dataset doesn't contain any anomalies such as missing data so it should be \"safe\" to operate on it."
   ]
  },
  {
   "cell_type": "markdown",
   "id": "603827da",
   "metadata": {},
   "source": [
    "## <font color=blue> Question One </font>  "
   ]
  },
  {
   "cell_type": "markdown",
   "id": "cddc5820",
   "metadata": {},
   "source": [
    "**Based on a survey that had been carried out on feburary 2023, the ratio of americans who entirely work from home is 35%.\n",
    "Under the assumption that this variable had also been measured amongst the \"Data\" workers in the US and had been found to be similiar:** \n",
    "\n",
    "**Does the csv (data file) represent well the population of the \"Data\" workers? Or does it countain a sub representation for workers that work entirely from home?**\n",
    "\n",
    "**Test the claim using the variable <font color=green> remote_ratio </font> with a siginificane level of <font color=green> 0.05 </font>.**"
   ]
  },
  {
   "cell_type": "markdown",
   "id": "c3704097",
   "metadata": {},
   "source": [
    "### <font color=teal> Subquestion 1 </font>"
   ]
  },
  {
   "cell_type": "markdown",
   "id": "3c2aedf1",
   "metadata": {},
   "source": [
    "**State the null hypothesis and the alternative hypothesis.**"
   ]
  },
  {
   "cell_type": "markdown",
   "id": "ceab4a24",
   "metadata": {},
   "source": [
    "Let $p$ be the precentage of workers that work entirely from home.\n",
    "$$ \n",
    "H_0: p = 35\\% \\\n",
    "$$\n",
    "$$\n",
    " H_1: p \\neq 35\\%\n",
    "$$"
   ]
  },
  {
   "cell_type": "markdown",
   "id": "5d76eff6",
   "metadata": {},
   "source": [
    "### <font color=teal> Subquestion 2 </font>"
   ]
  },
  {
   "cell_type": "markdown",
   "id": "ae956183",
   "metadata": {},
   "source": [
    "**What is the test statistic?**"
   ]
  },
  {
   "cell_type": "code",
   "execution_count": null,
   "id": "3f6784c9",
   "metadata": {},
   "outputs": [],
   "source": []
  },
  {
   "cell_type": "code",
   "execution_count": null,
   "id": "4bc26c0d",
   "metadata": {},
   "outputs": [],
   "source": []
  },
  {
   "cell_type": "markdown",
   "id": "c749ee11",
   "metadata": {},
   "source": [
    "### <font color=teal> Subquestion 3 </font>"
   ]
  },
  {
   "cell_type": "markdown",
   "id": "b4f63ce4",
   "metadata": {},
   "source": [
    "**Write code that test the hypothesis using simulation. Write explanations for your code.**"
   ]
  },
  {
   "cell_type": "code",
   "execution_count": 4,
   "id": "2438f17d",
   "metadata": {},
   "outputs": [],
   "source": [
    "employment_type = [\"fully remote\",\"not fully remote\"]\n",
    "prob_for_type = [0.35,0.65]\n",
    "sampling_size = df.shape[0]\n",
    "prob_remote_in_data = len(df[df.remote_ratio == \"fully remote\"])/df.shape[0]"
   ]
  },
  {
   "cell_type": "code",
   "execution_count": 5,
   "id": "cf8e8b78",
   "metadata": {},
   "outputs": [],
   "source": [
    "def single_mean_simulation(types,prob_for_type,size,desired_type):\n",
    "    new_simulated_sample = np.random.choice(employment_type, p=prob_for_type, size=size)\n",
    "    count = 0\n",
    "    for i in range(size):\n",
    "        if new_simulated_sample[i] == desired_type:\n",
    "            count += 1\n",
    "    return count/size"
   ]
  },
  {
   "cell_type": "code",
   "execution_count": 6,
   "id": "721bf5e9",
   "metadata": {},
   "outputs": [],
   "source": [
    "def mean_simulation(types , prob_for_type, num_replications, original_sample_size , desired_type): \n",
    "    \n",
    "    simulated_means = np.empty(num_replications)\n",
    "    for i in range(num_replications):\n",
    "        simulated_means[i] = single_mean_simulation(types,prob_for_type,original_sample_size,desired_type)\n",
    "\n",
    "    \n",
    "    return simulated_means"
   ]
  },
  {
   "cell_type": "code",
   "execution_count": 7,
   "id": "7837fce0",
   "metadata": {},
   "outputs": [],
   "source": [
    "simulated_means = mean_simulation(employment_type,prob_for_type,1000,sampling_size,\"fully remote\")"
   ]
  },
  {
   "cell_type": "markdown",
   "id": "2bf19e2b",
   "metadata": {},
   "source": [
    "### <font color=teal> Subquestion 4 </font>"
   ]
  },
  {
   "cell_type": "markdown",
   "id": "e0a1d777",
   "metadata": {},
   "source": [
    "**What is your conclusion? Present a numerative result as well as a graph depicting the test result**"
   ]
  },
  {
   "cell_type": "code",
   "execution_count": 8,
   "id": "140c2bc0",
   "metadata": {},
   "outputs": [
    {
     "data": {
      "image/png": "[encoded data removed]",
      "text/plain": [
       "<Figure size 875x500 with 1 Axes>"
      ]
     },
     "metadata": {},
     "output_type": "display_data"
    }
   ],
   "source": [
    "facetgrid_obj = sns.displot(simulated_means, stat='count',aspect = 1.75)\n",
    "facetgrid_obj.axes[0, 0].scatter(prob_remote_in_data, 0, s=150, color='red')  # draw observed value\n",
    "facetgrid_obj.axes[0, 0].legend(['Test statistic'])\n",
    "left_end = np.percentile(simulated_means, 2.5)\n",
    "right_end = np.percentile(simulated_means, 97.5)\n",
    "facetgrid_obj.axes[0, 0].hlines(y=0, xmin=left_end, xmax=right_end, colors='orange', linestyles='solid', lw=5)\n",
    "facetgrid_obj.set(title='Distribution of simulated full remote data employees', xlabel='average of employees working fully remote in percentage', ylabel='count')\n",
    "plt.show(facetgrid_obj)"
   ]
  },
  {
   "cell_type": "code",
   "execution_count": 9,
   "id": "6c7ee4ce",
   "metadata": {},
   "outputs": [
    {
     "name": "stdout",
     "output_type": "stream",
     "text": [
      "Using the p-value test the p value is 0.032 which is indeed smaller than 5%. \n"
     ]
    }
   ],
   "source": [
    "symmetry_axis = simulated_means.mean()\n",
    "distance_from_axis = symmetry_axis - prob_remote_in_data \n",
    "symmetric_value = symmetry_axis + distance_from_axis\n",
    "simulated_size = simulated_means.shape[0]\n",
    "count = 0\n",
    "for i in range(simulated_size):\n",
    "    if(simulated_means[i] < prob_remote_in_data or simulated_means[i] > symmetric_value ):\n",
    "        count += 1\n",
    "print(f'Using the p-value test the p value is {count/simulated_size} which is indeed smaller than 5%. ')        "
   ]
  },
  {
   "cell_type": "markdown",
   "id": "3a7fa8fe",
   "metadata": {},
   "source": [
    "As the question demanded both numerical value and a graph representation we can see based on the graph that the mean of the dataset is not inside of the confidence interval therefore we will reject the null hypothesis.\n",
    "The dataset does not represent the salaries of people who work in the data field,under the assumption that on average 35% of data field related employees work entirely remotely."
   ]
  },
  {
   "cell_type": "markdown",
   "id": "d4fc2102",
   "metadata": {},
   "source": [
    "## <font color=blue> Question Two </font>  "
   ]
  },
  {
   "cell_type": "markdown",
   "id": "e30ebb93",
   "metadata": {},
   "source": [
    "**<font color=green> Background </font>: There is a claim that Data Scientists earn in average a salary that is equal to the salary that Data Engineers clain. Test the claim based on the given data, Under the assumption that it represents well the \"Data\" field related jobs in the US**"
   ]
  },
  {
   "cell_type": "markdown",
   "id": "36d6ca68",
   "metadata": {},
   "source": [
    "### <font color=teal> Subquestion 1 </font>"
   ]
  },
  {
   "cell_type": "markdown",
   "id": "87fc1516",
   "metadata": {},
   "source": [
    "**State the null hypothesis and the alternative hypothesis**"
   ]
  },
  {
   "cell_type": "markdown",
   "id": "c9fb85b0",
   "metadata": {},
   "source": [
    "Let $d$ denote the difference between the mean salary of Data Scientists and Data Engineers.\n",
    "\n",
    "\n",
    "$$ \n",
    "H_0: d = 0\\ \\\n",
    "$$\n",
    "$$\n",
    " H_1: d \\neq 0\\\n",
    "$$"
   ]
  },
  {
   "cell_type": "markdown",
   "id": "c21a3196",
   "metadata": {},
   "source": [
    "### <font color=teal> Subquestion 2 </font>"
   ]
  },
  {
   "cell_type": "markdown",
   "id": "bd2afe1b",
   "metadata": {},
   "source": [
    "**What is the test statistic?**"
   ]
  },
  {
   "cell_type": "markdown",
   "id": "a5179f6c",
   "metadata": {},
   "source": []
  },
  {
   "cell_type": "markdown",
   "id": "a2404304",
   "metadata": {},
   "source": [
    "### <font color=teal> Subquestion 3 </font>"
   ]
  },
  {
   "cell_type": "markdown",
   "id": "d32459db",
   "metadata": {},
   "source": [
    "**Write code that tests the hypothesis using confidence interval (with at aleast 5000 replications). Explain the code that you write.**"
   ]
  },
  {
   "cell_type": "code",
   "execution_count": 10,
   "id": "56243d83",
   "metadata": {},
   "outputs": [
    {
     "name": "stdout",
     "output_type": "stream",
     "text": [
      "Before answering this question lets first figure out how many engineers we have of both types.\n",
      "There are 315 Data Scientists in this data set.\n",
      "There are 472 Data Engineers in this data set.\n"
     ]
    }
   ],
   "source": [
    "data_scientist_count = df[df['job_title'] == \"Data Scientist\"].shape[0]\n",
    "data_engineer_count =  df[df['job_title'] == \"Data Engineer\"].shape[0]\n",
    "print(\"Before answering this question lets first figure out how many engineers we have of both types.\")\n",
    "print(f'There are {data_scientist_count} Data Scientists in this data set.')\n",
    "print(f'There are {data_engineer_count} Data Engineers in this data set.')"
   ]
  },
  {
   "cell_type": "markdown",
   "id": "f22c53c5",
   "metadata": {},
   "source": [
    "Next, we should filter out the dataset so we could more easily work on it."
   ]
  },
  {
   "cell_type": "code",
   "execution_count": 11,
   "id": "dd0744f2",
   "metadata": {},
   "outputs": [],
   "source": [
    "df_DE_DS = df[(df['job_title'] == \"Data Scientist\") | (df['job_title'] == \"Data Engineer\")] \n",
    "df_DE_DS.reset_index(inplace=True) #There's no need for this line but it's nice to have.\n",
    "df_DE_DS = df_DE_DS.drop(columns={'index'}) #Pandas refuses to allow inplace"
   ]
  },
  {
   "cell_type": "markdown",
   "id": "31c978c7",
   "metadata": {},
   "source": [
    "The DataSet we are working on in this question:"
   ]
  },
  {
   "cell_type": "code",
   "execution_count": 12,
   "id": "6393b589",
   "metadata": {},
   "outputs": [
    {
     "data": {
      "text/html": [
       "<div>\n",
       "<style scoped>\n",
       "    .dataframe tbody tr th:only-of-type {\n",
       "        vertical-align: middle;\n",
       "    }\n",
       "\n",
       "    .dataframe tbody tr th {\n",
       "        vertical-align: top;\n",
       "    }\n",
       "\n",
       "    .dataframe thead th {\n",
       "        text-align: right;\n",
       "    }\n",
       "</style>\n",
       "<table border=\"1\" class=\"dataframe\">\n",
       "  <thead>\n",
       "    <tr style=\"text-align: right;\">\n",
       "      <th></th>\n",
       "      <th>experience_level</th>\n",
       "      <th>employment_type</th>\n",
       "      <th>job_title</th>\n",
       "      <th>salary_in_usd</th>\n",
       "      <th>remote_ratio</th>\n",
       "      <th>company_size</th>\n",
       "    </tr>\n",
       "  </thead>\n",
       "  <tbody>\n",
       "    <tr>\n",
       "      <th>0</th>\n",
       "      <td>SE</td>\n",
       "      <td>FT</td>\n",
       "      <td>Data Scientist</td>\n",
       "      <td>147100</td>\n",
       "      <td>hybrid</td>\n",
       "      <td>M</td>\n",
       "    </tr>\n",
       "    <tr>\n",
       "      <th>1</th>\n",
       "      <td>SE</td>\n",
       "      <td>FT</td>\n",
       "      <td>Data Scientist</td>\n",
       "      <td>90700</td>\n",
       "      <td>hybrid</td>\n",
       "      <td>M</td>\n",
       "    </tr>\n",
       "    <tr>\n",
       "      <th>2</th>\n",
       "      <td>SE</td>\n",
       "      <td>FT</td>\n",
       "      <td>Data Scientist</td>\n",
       "      <td>170000</td>\n",
       "      <td>hybrid</td>\n",
       "      <td>M</td>\n",
       "    </tr>\n",
       "    <tr>\n",
       "      <th>3</th>\n",
       "      <td>SE</td>\n",
       "      <td>FT</td>\n",
       "      <td>Data Scientist</td>\n",
       "      <td>150000</td>\n",
       "      <td>hybrid</td>\n",
       "      <td>M</td>\n",
       "    </tr>\n",
       "    <tr>\n",
       "      <th>4</th>\n",
       "      <td>SE</td>\n",
       "      <td>FT</td>\n",
       "      <td>Data Engineer</td>\n",
       "      <td>253200</td>\n",
       "      <td>hybrid</td>\n",
       "      <td>M</td>\n",
       "    </tr>\n",
       "    <tr>\n",
       "      <th>...</th>\n",
       "      <td>...</td>\n",
       "      <td>...</td>\n",
       "      <td>...</td>\n",
       "      <td>...</td>\n",
       "      <td>...</td>\n",
       "      <td>...</td>\n",
       "    </tr>\n",
       "    <tr>\n",
       "      <th>782</th>\n",
       "      <td>SE</td>\n",
       "      <td>FT</td>\n",
       "      <td>Data Engineer</td>\n",
       "      <td>182000</td>\n",
       "      <td>fully remote</td>\n",
       "      <td>M</td>\n",
       "    </tr>\n",
       "    <tr>\n",
       "      <th>783</th>\n",
       "      <td>MI</td>\n",
       "      <td>FT</td>\n",
       "      <td>Data Scientist</td>\n",
       "      <td>130000</td>\n",
       "      <td>hybrid</td>\n",
       "      <td>M</td>\n",
       "    </tr>\n",
       "    <tr>\n",
       "      <th>784</th>\n",
       "      <td>MI</td>\n",
       "      <td>FT</td>\n",
       "      <td>Data Scientist</td>\n",
       "      <td>90000</td>\n",
       "      <td>hybrid</td>\n",
       "      <td>M</td>\n",
       "    </tr>\n",
       "    <tr>\n",
       "      <th>785</th>\n",
       "      <td>EN</td>\n",
       "      <td>FT</td>\n",
       "      <td>Data Engineer</td>\n",
       "      <td>160000</td>\n",
       "      <td>hybrid</td>\n",
       "      <td>M</td>\n",
       "    </tr>\n",
       "    <tr>\n",
       "      <th>786</th>\n",
       "      <td>EN</td>\n",
       "      <td>FT</td>\n",
       "      <td>Data Engineer</td>\n",
       "      <td>135000</td>\n",
       "      <td>hybrid</td>\n",
       "      <td>M</td>\n",
       "    </tr>\n",
       "  </tbody>\n",
       "</table>\n",
       "<p>787 rows × 6 columns</p>\n",
       "</div>"
      ],
      "text/plain": [
       "    experience_level employment_type       job_title  salary_in_usd  \\\n",
       "0                 SE              FT  Data Scientist         147100   \n",
       "1                 SE              FT  Data Scientist          90700   \n",
       "2                 SE              FT  Data Scientist         170000   \n",
       "3                 SE              FT  Data Scientist         150000   \n",
       "4                 SE              FT   Data Engineer         253200   \n",
       "..               ...             ...             ...            ...   \n",
       "782               SE              FT   Data Engineer         182000   \n",
       "783               MI              FT  Data Scientist         130000   \n",
       "784               MI              FT  Data Scientist          90000   \n",
       "785               EN              FT   Data Engineer         160000   \n",
       "786               EN              FT   Data Engineer         135000   \n",
       "\n",
       "     remote_ratio company_size  \n",
       "0          hybrid            M  \n",
       "1          hybrid            M  \n",
       "2          hybrid            M  \n",
       "3          hybrid            M  \n",
       "4          hybrid            M  \n",
       "..            ...          ...  \n",
       "782  fully remote            M  \n",
       "783        hybrid            M  \n",
       "784        hybrid            M  \n",
       "785        hybrid            M  \n",
       "786        hybrid            M  \n",
       "\n",
       "[787 rows x 6 columns]"
      ]
     },
     "execution_count": 12,
     "metadata": {},
     "output_type": "execute_result"
    }
   ],
   "source": [
    "df_DE_DS"
   ]
  },
  {
   "cell_type": "code",
   "execution_count": 13,
   "id": "772c9a85",
   "metadata": {},
   "outputs": [],
   "source": [
    "def diff_of_avgs(df, column_name, grouping_var):\n",
    "    grpby_var = df.groupby(grouping_var)\n",
    "    avgs = grpby_var[column_name].mean()\n",
    "    return avgs[1] - avgs[0]\n",
    "\n",
    "def bootstrap_mean_difference(original_sample, column_name, grouping_var, num_replications):\n",
    "\n",
    "    original_sample_size = original_sample.shape[0] # we need to replicate with the same sample size\n",
    "    original_sample_cols_of_interest = original_sample[[column_name, grouping_var]]\n",
    "    bstrap_mean_diffs = np.empty(num_replications)\n",
    "    for i in range(num_replications):\n",
    "        bootstrap_sample = original_sample_cols_of_interest.sample(original_sample_size, replace=True) # note WITH REPLACEMENT!\n",
    "        resampled_mean_diff = diff_of_avgs(bootstrap_sample, column_name, grouping_var)\n",
    "        bstrap_mean_diffs[i] = resampled_mean_diff\n",
    "    \n",
    "    return bstrap_mean_diffs"
   ]
  },
  {
   "cell_type": "code",
   "execution_count": 14,
   "id": "b4533934",
   "metadata": {},
   "outputs": [],
   "source": [
    "difference_in_salary = bootstrap_mean_difference(df_DE_DS , 'salary_in_usd','job_title',5000)"
   ]
  },
  {
   "cell_type": "markdown",
   "id": "6965374c",
   "metadata": {},
   "source": [
    "### <font color=teal> Subquestion 4 </font>"
   ]
  },
  {
   "cell_type": "markdown",
   "id": "b50075ea",
   "metadata": {},
   "source": [
    "**Find confidence intervals to the paramater values you found with confidence level of 0.99 and 0.95**"
   ]
  },
  {
   "cell_type": "code",
   "execution_count": 78,
   "id": "2d41bdbe",
   "metadata": {},
   "outputs": [
    {
     "data": {
      "text/plain": [
       "<seaborn.axisgrid.FacetGrid at 0x1c29516fbb0>"
      ]
     },
     "execution_count": 78,
     "metadata": {},
     "output_type": "execute_result"
    }
   ],
   "source": [
    "facetgrid_obj = sns.displot(difference_in_salary, stat='count',aspect = 1.75)\n",
    "facetgrid_obj.set(title='Difference in Salary between Data Scientists and Data Engineers on Average', xlabel='Average Salary Gap in USD', ylabel='count')\n"
   ]
  },
  {
   "cell_type": "markdown",
   "id": "dc567b4c",
   "metadata": {},
   "source": [
    "<font color=purple> For 95% confidence level: </font>"
   ]
  },
  {
   "cell_type": "code",
   "execution_count": 79,
   "id": "f58b7823",
   "metadata": {},
   "outputs": [
    {
     "data": {
      "image/png": "[encoded data removed]",
      "text/plain": [
       "<Figure size 875x500 with 1 Axes>"
      ]
     },
     "metadata": {},
     "output_type": "display_data"
    }
   ],
   "source": [
    "left_end = np.percentile(simulated_means, 2.5)\n",
    "right_end = np.percentile(simulated_means, 97.5)\n",
    "facetgrid_obj.axes[0, 0].hlines(y=0, xmin=left_end, xmax=right_end, colors='orange', linestyles='solid', lw=5)\n",
    "facetgrid_obj.axes[0,0].legend(['95% Confidence Interval'])\n",
    "\n",
    "plt.show(facetgrid_obj)"
   ]
  },
  {
   "cell_type": "markdown",
   "id": "7f07112c",
   "metadata": {},
   "source": [
    "<font color=purple> For 99% confidence level: </font>"
   ]
  },
  {
   "cell_type": "code",
   "execution_count": 74,
   "id": "e44bcae4",
   "metadata": {},
   "outputs": [],
   "source": [
    "left_end = np.percentile(simulated_means, 0.5)\n",
    "right_end = np.percentile(simulated_means, 99.5)\n",
    "facetgrid_obj.axes[0, 0].hlines(y=0, xmin=left_end, xmax=right_end, colors='orange', linestyles='solid', lw=5)\n",
    "facetgrid_obj.axes[0, 0].legend(['99% Confidence IntervaL'])\n",
    "plt.show(facetgrid_obj)"
   ]
  },
  {
   "cell_type": "markdown",
   "id": "112b0c64",
   "metadata": {},
   "source": [
    "### <font color=teal> Subquestion 5 </font>"
   ]
  },
  {
   "cell_type": "markdown",
   "id": "f85df234",
   "metadata": {},
   "source": [
    "**What is your conclusion? Present numerical values as well as graphs depicting the test' result for both of the mentioned confidence levels**"
   ]
  },
  {
   "cell_type": "markdown",
   "id": "f4bd4c1f",
   "metadata": {},
   "source": []
  },
  {
   "cell_type": "markdown",
   "id": "c24b34bf",
   "metadata": {},
   "source": [
    "## <font color=blue> Question Three </font>  "
   ]
  },
  {
   "cell_type": "markdown",
   "id": "98265855",
   "metadata": {},
   "source": [
    "**Calculate the confidence interval of confidence 95% for mean salaries of workers in medium sized companies(M). Explain the code that you wrote and explicitly display the confidence interval.**"
   ]
  },
  {
   "cell_type": "markdown",
   "id": "c56a4584",
   "metadata": {},
   "source": [
    "As we did before we should first filter out the desired group, in this question it would be medium sized companies."
   ]
  },
  {
   "cell_type": "code",
   "execution_count": 18,
   "id": "ec59df9c",
   "metadata": {},
   "outputs": [],
   "source": [
    "df_M_size_comp = df[df['company_size'] == \"M\"]\n",
    "df_M_size_comp.reset_index(inplace=True)\n",
    "df_M_size_comp = df_M_size_comp.drop(columns={'index'})"
   ]
  },
  {
   "cell_type": "markdown",
   "id": "91eb86de",
   "metadata": {},
   "source": [
    "The Dataset in this question:"
   ]
  },
  {
   "cell_type": "code",
   "execution_count": 19,
   "id": "9435bad5",
   "metadata": {},
   "outputs": [
    {
     "data": {
      "text/html": [
       "<div>\n",
       "<style scoped>\n",
       "    .dataframe tbody tr th:only-of-type {\n",
       "        vertical-align: middle;\n",
       "    }\n",
       "\n",
       "    .dataframe tbody tr th {\n",
       "        vertical-align: top;\n",
       "    }\n",
       "\n",
       "    .dataframe thead th {\n",
       "        text-align: right;\n",
       "    }\n",
       "</style>\n",
       "<table border=\"1\" class=\"dataframe\">\n",
       "  <thead>\n",
       "    <tr style=\"text-align: right;\">\n",
       "      <th></th>\n",
       "      <th>experience_level</th>\n",
       "      <th>employment_type</th>\n",
       "      <th>job_title</th>\n",
       "      <th>salary_in_usd</th>\n",
       "      <th>remote_ratio</th>\n",
       "      <th>company_size</th>\n",
       "    </tr>\n",
       "  </thead>\n",
       "  <tbody>\n",
       "    <tr>\n",
       "      <th>0</th>\n",
       "      <td>SE</td>\n",
       "      <td>FT</td>\n",
       "      <td>Data Scientist</td>\n",
       "      <td>147100</td>\n",
       "      <td>hybrid</td>\n",
       "      <td>M</td>\n",
       "    </tr>\n",
       "    <tr>\n",
       "      <th>1</th>\n",
       "      <td>SE</td>\n",
       "      <td>FT</td>\n",
       "      <td>Data Scientist</td>\n",
       "      <td>90700</td>\n",
       "      <td>hybrid</td>\n",
       "      <td>M</td>\n",
       "    </tr>\n",
       "    <tr>\n",
       "      <th>2</th>\n",
       "      <td>SE</td>\n",
       "      <td>FT</td>\n",
       "      <td>Data Analyst</td>\n",
       "      <td>130000</td>\n",
       "      <td>fully remote</td>\n",
       "      <td>M</td>\n",
       "    </tr>\n",
       "    <tr>\n",
       "      <th>3</th>\n",
       "      <td>SE</td>\n",
       "      <td>FT</td>\n",
       "      <td>Data Analyst</td>\n",
       "      <td>100000</td>\n",
       "      <td>fully remote</td>\n",
       "      <td>M</td>\n",
       "    </tr>\n",
       "    <tr>\n",
       "      <th>4</th>\n",
       "      <td>SE</td>\n",
       "      <td>FT</td>\n",
       "      <td>Data Modeler</td>\n",
       "      <td>147100</td>\n",
       "      <td>hybrid</td>\n",
       "      <td>M</td>\n",
       "    </tr>\n",
       "    <tr>\n",
       "      <th>...</th>\n",
       "      <td>...</td>\n",
       "      <td>...</td>\n",
       "      <td>...</td>\n",
       "      <td>...</td>\n",
       "      <td>...</td>\n",
       "      <td>...</td>\n",
       "    </tr>\n",
       "    <tr>\n",
       "      <th>1496</th>\n",
       "      <td>MI</td>\n",
       "      <td>FT</td>\n",
       "      <td>Data Analyst</td>\n",
       "      <td>100000</td>\n",
       "      <td>hybrid</td>\n",
       "      <td>M</td>\n",
       "    </tr>\n",
       "    <tr>\n",
       "      <th>1497</th>\n",
       "      <td>MI</td>\n",
       "      <td>FT</td>\n",
       "      <td>Data Scientist</td>\n",
       "      <td>130000</td>\n",
       "      <td>hybrid</td>\n",
       "      <td>M</td>\n",
       "    </tr>\n",
       "    <tr>\n",
       "      <th>1498</th>\n",
       "      <td>MI</td>\n",
       "      <td>FT</td>\n",
       "      <td>Data Scientist</td>\n",
       "      <td>90000</td>\n",
       "      <td>hybrid</td>\n",
       "      <td>M</td>\n",
       "    </tr>\n",
       "    <tr>\n",
       "      <th>1499</th>\n",
       "      <td>EN</td>\n",
       "      <td>FT</td>\n",
       "      <td>Data Engineer</td>\n",
       "      <td>160000</td>\n",
       "      <td>hybrid</td>\n",
       "      <td>M</td>\n",
       "    </tr>\n",
       "    <tr>\n",
       "      <th>1500</th>\n",
       "      <td>EN</td>\n",
       "      <td>FT</td>\n",
       "      <td>Data Engineer</td>\n",
       "      <td>135000</td>\n",
       "      <td>hybrid</td>\n",
       "      <td>M</td>\n",
       "    </tr>\n",
       "  </tbody>\n",
       "</table>\n",
       "<p>1501 rows × 6 columns</p>\n",
       "</div>"
      ],
      "text/plain": [
       "     experience_level employment_type       job_title  salary_in_usd  \\\n",
       "0                  SE              FT  Data Scientist         147100   \n",
       "1                  SE              FT  Data Scientist          90700   \n",
       "2                  SE              FT    Data Analyst         130000   \n",
       "3                  SE              FT    Data Analyst         100000   \n",
       "4                  SE              FT    Data Modeler         147100   \n",
       "...               ...             ...             ...            ...   \n",
       "1496               MI              FT    Data Analyst         100000   \n",
       "1497               MI              FT  Data Scientist         130000   \n",
       "1498               MI              FT  Data Scientist          90000   \n",
       "1499               EN              FT   Data Engineer         160000   \n",
       "1500               EN              FT   Data Engineer         135000   \n",
       "\n",
       "      remote_ratio company_size  \n",
       "0           hybrid            M  \n",
       "1           hybrid            M  \n",
       "2     fully remote            M  \n",
       "3     fully remote            M  \n",
       "4           hybrid            M  \n",
       "...            ...          ...  \n",
       "1496        hybrid            M  \n",
       "1497        hybrid            M  \n",
       "1498        hybrid            M  \n",
       "1499        hybrid            M  \n",
       "1500        hybrid            M  \n",
       "\n",
       "[1501 rows x 6 columns]"
      ]
     },
     "execution_count": 19,
     "metadata": {},
     "output_type": "execute_result"
    }
   ],
   "source": [
    "df_M_size_comp"
   ]
  },
  {
   "cell_type": "code",
   "execution_count": 20,
   "id": "8be6d379",
   "metadata": {},
   "outputs": [],
   "source": [
    "def mean_of_target(df, column_name):\n",
    "    mean = df[column_name].mean()\n",
    "    return mean\n",
    "\n",
    "def bootstrap_mean(original_sample, column_name, num_replications):\n",
    "    original_sample_size = original_sample.shape[0] # we need to replicate with the same sample size\n",
    "    original_sample_var_of_interest = original_sample[[column_name]]\n",
    "    bstrap_means = np.empty(num_replications)\n",
    "    for i in range(num_replications):\n",
    "        # replace - allow or disallow sampling of the same row more than once.\n",
    "        bootstrap_sample = original_sample_var_of_interest.sample(original_sample_size, replace=True) # note WITH REPLACEMENT!\n",
    "        resampled_mean = bootstrap_sample.mean()\n",
    "        bstrap_means[i] = resampled_mean\n",
    "    \n",
    "    return bstrap_means"
   ]
  },
  {
   "cell_type": "code",
   "execution_count": 21,
   "id": "82403022",
   "metadata": {},
   "outputs": [],
   "source": [
    "sample = df_M_size_comp.sample(200,replace=True)\n",
    "M_company_simulated_means =  bootstrap_mean(sample,\"salary_in_usd\",5000)"
   ]
  },
  {
   "cell_type": "code",
   "execution_count": 22,
   "id": "eb6cb503",
   "metadata": {},
   "outputs": [
    {
     "data": {
      "image/png": "[encoded data removed]",
      "text/plain": [
       "<Figure size 875x500 with 1 Axes>"
      ]
     },
     "metadata": {},
     "output_type": "display_data"
    }
   ],
   "source": [
    "facetgrid_obj = sns.displot(M_company_simulated_means, stat='count',aspect = 1.75)\n",
    "facetgrid_obj.set(title='Simulated Average Salary of Medium Sized Company Employees', xlabel='Average Salary in USD', ylabel='count')\n",
    "\n",
    "left_end = np.percentile(M_company_simulated_means, 2.5)\n",
    "right_end = np.percentile(M_company_simulated_means, 97.5)\n",
    "facetgrid_obj.axes[0, 0].hlines(y=0, xmin=left_end, xmax=right_end, colors='orange', linestyles='solid', lw=5)\n",
    "facetgrid_obj.axes[0, 0].legend(['95% Confidence Interval'])\n",
    "\n",
    "plt.show(facetgrid_obj)"
   ]
  },
  {
   "cell_type": "markdown",
   "id": "38b9985c",
   "metadata": {},
   "source": [
    "The confidence interval for the Simulated Average Salary of Medium Sized Company Employees is:"
   ]
  },
  {
   "cell_type": "code",
   "execution_count": 23,
   "id": "3d2f07b8",
   "metadata": {},
   "outputs": [
    {
     "name": "stdout",
     "output_type": "stream",
     "text": [
      "The lower bound is: 146158.007 USD\n",
      "The upper bound is: 161892.69337499997 USD\n"
     ]
    }
   ],
   "source": [
    "print(f'The lower bound is: {left_end} USD\\nThe upper bound is: {right_end} USD')"
   ]
  },
  {
   "cell_type": "markdown",
   "id": "8c9914aa",
   "metadata": {},
   "source": [
    "## <font color=blue> Question Four </font>  "
   ]
  },
  {
   "cell_type": "markdown",
   "id": "dc44eaa8",
   "metadata": {},
   "source": [
    "<font color=green> Background </font>:**A certain financial data analysis company  would like to know what is the median that is being paid to workers in the data field. A new clumsy data analyst accidently deleted the data file. In order to find the median, he decided to create a sample and calculate its median using bootstraps. He found a file with data on employees in the data field in one of the e-mails that he recieved, without knowing that the people in the file are only employees that dont work from home completely (Hybrid). The employee picked 150 people at random from the file and asked them their salary. Since he promised a monetary compensation to those that responded, all of the people that recieved the e-mail replied back. Assume the data that was reported is true and exists in the original data file.**"
   ]
  },
  {
   "cell_type": "markdown",
   "id": "9d1a69ed",
   "metadata": {},
   "source": [
    "### <font color=teal> Subquestion 1 </font>"
   ]
  },
  {
   "cell_type": "markdown",
   "id": "bf1b3425",
   "metadata": {},
   "source": [
    "**In order to test the chance the employee succeeded creating (from the sample of hybrid employees) confidence interval of 95% that contains the true median of the salary of all of the employees, run 100 simulations that sample 150 employees from the population of hybrid employees and calculates for each sample the confidence interval of confidence 95% of the median of their salary. Out of 100 confidence inervals how many of them contains the true median of the employees that work in the \"data field\" as it can be calculated directly from the original data?**"
   ]
  },
  {
   "cell_type": "code",
   "execution_count": 24,
   "id": "162010b4",
   "metadata": {},
   "outputs": [
    {
     "name": "stdout",
     "output_type": "stream",
     "text": [
      "The filtered (original) dataset the employee will sample from:\n"
     ]
    },
    {
     "data": {
      "text/html": [
       "<div>\n",
       "<style scoped>\n",
       "    .dataframe tbody tr th:only-of-type {\n",
       "        vertical-align: middle;\n",
       "    }\n",
       "\n",
       "    .dataframe tbody tr th {\n",
       "        vertical-align: top;\n",
       "    }\n",
       "\n",
       "    .dataframe thead th {\n",
       "        text-align: right;\n",
       "    }\n",
       "</style>\n",
       "<table border=\"1\" class=\"dataframe\">\n",
       "  <thead>\n",
       "    <tr style=\"text-align: right;\">\n",
       "      <th></th>\n",
       "      <th>experience_level</th>\n",
       "      <th>employment_type</th>\n",
       "      <th>job_title</th>\n",
       "      <th>salary_in_usd</th>\n",
       "      <th>remote_ratio</th>\n",
       "      <th>company_size</th>\n",
       "    </tr>\n",
       "  </thead>\n",
       "  <tbody>\n",
       "    <tr>\n",
       "      <th>2</th>\n",
       "      <td>SE</td>\n",
       "      <td>FT</td>\n",
       "      <td>Applied Scientist</td>\n",
       "      <td>222200</td>\n",
       "      <td>hybrid</td>\n",
       "      <td>L</td>\n",
       "    </tr>\n",
       "    <tr>\n",
       "      <th>3</th>\n",
       "      <td>SE</td>\n",
       "      <td>FT</td>\n",
       "      <td>Applied Scientist</td>\n",
       "      <td>136000</td>\n",
       "      <td>hybrid</td>\n",
       "      <td>L</td>\n",
       "    </tr>\n",
       "    <tr>\n",
       "      <th>4</th>\n",
       "      <td>SE</td>\n",
       "      <td>FT</td>\n",
       "      <td>Data Scientist</td>\n",
       "      <td>147100</td>\n",
       "      <td>hybrid</td>\n",
       "      <td>M</td>\n",
       "    </tr>\n",
       "    <tr>\n",
       "      <th>5</th>\n",
       "      <td>SE</td>\n",
       "      <td>FT</td>\n",
       "      <td>Data Scientist</td>\n",
       "      <td>90700</td>\n",
       "      <td>hybrid</td>\n",
       "      <td>M</td>\n",
       "    </tr>\n",
       "    <tr>\n",
       "      <th>8</th>\n",
       "      <td>EN</td>\n",
       "      <td>FT</td>\n",
       "      <td>Applied Scientist</td>\n",
       "      <td>213660</td>\n",
       "      <td>hybrid</td>\n",
       "      <td>L</td>\n",
       "    </tr>\n",
       "    <tr>\n",
       "      <th>...</th>\n",
       "      <td>...</td>\n",
       "      <td>...</td>\n",
       "      <td>...</td>\n",
       "      <td>...</td>\n",
       "      <td>...</td>\n",
       "      <td>...</td>\n",
       "    </tr>\n",
       "    <tr>\n",
       "      <th>1560</th>\n",
       "      <td>SE</td>\n",
       "      <td>FT</td>\n",
       "      <td>Machine Learning Engineer</td>\n",
       "      <td>134500</td>\n",
       "      <td>hybrid</td>\n",
       "      <td>L</td>\n",
       "    </tr>\n",
       "    <tr>\n",
       "      <th>1561</th>\n",
       "      <td>MI</td>\n",
       "      <td>FT</td>\n",
       "      <td>Data Scientist</td>\n",
       "      <td>130000</td>\n",
       "      <td>hybrid</td>\n",
       "      <td>M</td>\n",
       "    </tr>\n",
       "    <tr>\n",
       "      <th>1562</th>\n",
       "      <td>MI</td>\n",
       "      <td>FT</td>\n",
       "      <td>Data Scientist</td>\n",
       "      <td>90000</td>\n",
       "      <td>hybrid</td>\n",
       "      <td>M</td>\n",
       "    </tr>\n",
       "    <tr>\n",
       "      <th>1563</th>\n",
       "      <td>EN</td>\n",
       "      <td>FT</td>\n",
       "      <td>Data Engineer</td>\n",
       "      <td>160000</td>\n",
       "      <td>hybrid</td>\n",
       "      <td>M</td>\n",
       "    </tr>\n",
       "    <tr>\n",
       "      <th>1564</th>\n",
       "      <td>EN</td>\n",
       "      <td>FT</td>\n",
       "      <td>Data Engineer</td>\n",
       "      <td>135000</td>\n",
       "      <td>hybrid</td>\n",
       "      <td>M</td>\n",
       "    </tr>\n",
       "  </tbody>\n",
       "</table>\n",
       "<p>1057 rows × 6 columns</p>\n",
       "</div>"
      ],
      "text/plain": [
       "     experience_level employment_type                  job_title  \\\n",
       "2                  SE              FT          Applied Scientist   \n",
       "3                  SE              FT          Applied Scientist   \n",
       "4                  SE              FT             Data Scientist   \n",
       "5                  SE              FT             Data Scientist   \n",
       "8                  EN              FT          Applied Scientist   \n",
       "...               ...             ...                        ...   \n",
       "1560               SE              FT  Machine Learning Engineer   \n",
       "1561               MI              FT             Data Scientist   \n",
       "1562               MI              FT             Data Scientist   \n",
       "1563               EN              FT              Data Engineer   \n",
       "1564               EN              FT              Data Engineer   \n",
       "\n",
       "      salary_in_usd remote_ratio company_size  \n",
       "2            222200       hybrid            L  \n",
       "3            136000       hybrid            L  \n",
       "4            147100       hybrid            M  \n",
       "5             90700       hybrid            M  \n",
       "8            213660       hybrid            L  \n",
       "...             ...          ...          ...  \n",
       "1560         134500       hybrid            L  \n",
       "1561         130000       hybrid            M  \n",
       "1562          90000       hybrid            M  \n",
       "1563         160000       hybrid            M  \n",
       "1564         135000       hybrid            M  \n",
       "\n",
       "[1057 rows x 6 columns]"
      ]
     },
     "execution_count": 24,
     "metadata": {},
     "output_type": "execute_result"
    }
   ],
   "source": [
    "df_hybrid = df[df['remote_ratio'] == \"hybrid\"]\n",
    "print(f'The filtered (original) dataset the employee will sample from:')\n",
    "df_hybrid"
   ]
  },
  {
   "cell_type": "code",
   "execution_count": 28,
   "id": "928b5ca3",
   "metadata": {},
   "outputs": [],
   "source": [
    "def is_real_mean_in_bootstrap(real_mean,bootstrap):\n",
    "    left_end = np.percentile(bootstrap, 2.5)\n",
    "    right_end = np.percentile(bootstrap, 97.5)\n",
    "    if ((real_mean >= left_end) and (real_mean <= right_end)):\n",
    "        return 1\n",
    "    else:\n",
    "        return 0\n",
    "    \n",
    "def single_bootstrap_for_mean_salary(df, column_of_interest,bootstrap_count,sample_size):\n",
    "    all_bootstraps = np.empty(bootstrap_count)\n",
    "    real_mean = df[column_of_interest].mean()\n",
    "    count = 0\n",
    "    for i in range(bootstrap_count):\n",
    "        sample = df.sample(sample_size,replace=True)\n",
    "        bootstrap = bootstrap_mean(sample,\"salary_in_usd\",500)\n",
    "        count += is_real_mean_in_bootstrap(real_mean,bootstrap)\n",
    "    return count\n",
    "    "
   ]
  },
  {
   "cell_type": "code",
   "execution_count": 30,
   "id": "b3e642d6",
   "metadata": {},
   "outputs": [],
   "source": [
    "count = single_bootstrap_for_mean_salary(df_hybrid,\"salary_in_usd\",100,150)"
   ]
  },
  {
   "cell_type": "code",
   "execution_count": 31,
   "id": "dce34904",
   "metadata": {},
   "outputs": [
    {
     "data": {
      "text/plain": [
       "96"
      ]
     },
     "execution_count": 31,
     "metadata": {},
     "output_type": "execute_result"
    }
   ],
   "source": [
    "count"
   ]
  },
  {
   "cell_type": "code",
   "execution_count": null,
   "id": "7b4eb894",
   "metadata": {},
   "outputs": [],
   "source": []
  },
  {
   "cell_type": "markdown",
   "id": "5676198d",
   "metadata": {},
   "source": [
    "### <font color=teal> Subquestion 2 </font>"
   ]
  },
  {
   "cell_type": "markdown",
   "id": "404ef9cf",
   "metadata": {},
   "source": [
    "**The data analyst used a sample that wasn't taken at random from the same population that he is testing (but from another population). In spite of that, does the theoretical gurantee of the bootstrap method? Explain your reasoning.**"
   ]
  },
  {
   "cell_type": "markdown",
   "id": "97633c62",
   "metadata": {},
   "source": [
    "The answer depends but in general: <b> No </b>, there is no theoretical gurantee of the bootstrap method if the sample that was taken is not from the same population that the data analyst is testing. \n",
    "\n",
    "\n",
    "One of the guiding principles behind the bootstrap method is the assumption that the sample we drew represents the population we are testing. Assuming such an assumption (and other such as sufficently sized sample size) is true, we are able to indirectly draw infinetly from the original population. Which in turn, would let us find approximations about said population.\n",
    "\n",
    "However, since the data analyst drew from a seperate population, there is no gurantee that the sample he drew represents in any form the \"data related employees\" , even if the data analyst drew from a subset of a data employees (as in any specific attribute) there is no gurantee it wont skew his results.\n",
    "\n",
    "<font color=purple> Side note </font>: The slim chance the bootstrap does work is the case the second population happens to distribute exactly the same as the population he is testing. "
   ]
  },
  {
   "cell_type": "markdown",
   "id": "37a4294a",
   "metadata": {},
   "source": [
    "### <font color=teal> Subquestion 3 </font>"
   ]
  },
  {
   "cell_type": "markdown",
   "id": "b0fe2edc",
   "metadata": {},
   "source": [
    "**How would your answers change in Subquestion A and B if the data analysis company would like to know the quarter salary of the employees working in the field (as in , instead of calculating the median , the data analyst would calculate the first quarter of the salaries). Explain your reasoning.**\n",
    "\n",
    "<font color=purple> Hint </font>: Draw the distribution of salaries or their sum for two different employee groups."
   ]
  },
  {
   "cell_type": "code",
   "execution_count": 48,
   "id": "60defa31",
   "metadata": {},
   "outputs": [],
   "source": [
    "salary_distribution = sns.FacetGrid(df,col=\"remote_ratio\")"
   ]
  },
  {
   "cell_type": "code",
   "execution_count": 49,
   "id": "ea60e440",
   "metadata": {},
   "outputs": [
    {
     "data": {
      "text/plain": [
       "<seaborn.axisgrid.FacetGrid at 0x1c294eec490>"
      ]
     },
     "execution_count": 49,
     "metadata": {},
     "output_type": "execute_result"
    }
   ],
   "source": [
    "salary_distribution.map(sns.histplot, \"salary_in_usd\")"
   ]
  },
  {
   "cell_type": "code",
   "execution_count": 50,
   "id": "c7ca6b6e",
   "metadata": {},
   "outputs": [
    {
     "data": {
      "image/png": "[encoded data removed]",
      "text/plain": [
       "<Figure size 600x300 with 2 Axes>"
      ]
     },
     "metadata": {},
     "output_type": "display_data"
    }
   ],
   "source": [
    "plt.show(salary_distribution)"
   ]
  },
  {
   "cell_type": "markdown",
   "id": "059f9578",
   "metadata": {},
   "source": [
    "# <font color = red>  Part Two - Racism in the American Judiciary System </font>"
   ]
  },
  {
   "cell_type": "markdown",
   "id": "08fcfa6d",
   "metadata": {},
   "source": [
    "## <font color=blue> Question One </font>  "
   ]
  },
  {
   "cell_type": "markdown",
   "id": "6211cc9f",
   "metadata": {},
   "source": [
    "**In 2~4 short sentences explain why it is problematic to use bootstraps to calculate confidence intervals using very small sample sizes.**"
   ]
  },
  {
   "cell_type": "markdown",
   "id": "a602ec81",
   "metadata": {},
   "source": [
    "As previously mentioned in <font color=teal> Part 1 - Question 4 Subquestion 2</font> the theoretical background of bootstraps rely on large sample sizes picked at random in order to simulate the distribution of the population we are attempting to test. Using small sample sizes amplifies the variance / \"noise\" of the sample which in turn would hinder its ability to mimic the qualities our original unreachable population has.  "
   ]
  },
  {
   "cell_type": "markdown",
   "id": "12e0de96",
   "metadata": {},
   "source": [
    "## <font color=blue> Question Two </font>  "
   ]
  },
  {
   "cell_type": "markdown",
   "id": "d549ce12",
   "metadata": {},
   "source": [
    "<font color=green> Background </font>: **Researchers in the US examined the effect race has on judgets's death penalty verdict during trialing a person who had been accused of murder.**\n",
    "\n",
    "**The researchers have found there's a seems to be a difference whether or not the victim's race had been taken in consideriation or not. While considering the race of the victim, black defendee's are sentenced the death penalty more often than white people. However, when not considering the race of the victim black people are sentenced the death penalty less than white people.**"
   ]
  },
  {
   "cell_type": "markdown",
   "id": "bf8a6b46",
   "metadata": {},
   "source": [
    "graph"
   ]
  },
  {
   "cell_type": "markdown",
   "id": "25af1c1e",
   "metadata": {},
   "source": [
    "### <font color=teal> Subquestion 1 </font> "
   ]
  },
  {
   "cell_type": "markdown",
   "id": "e5e2fc80",
   "metadata": {},
   "source": [
    "**Which statistical phenomenon could explain the gap between the results whether we consider the race of the victim and when we do not?**"
   ]
  },
  {
   "cell_type": "markdown",
   "id": "0604428c",
   "metadata": {},
   "source": [
    "The difference could be explained with the difference in the amount of sentencing per race per victim race. Considering the ratio is a simple convicted / sentenced ratio we can see that black on white murder had a high percentage of 25.7%. However, compared to white on white there had been far less instances of it occuring overall and the few that did resulted in a death verdict . The same could be said about comparing white on black against black on black, white on black murders were just not commited enough to be able to simply compare the verdict ratio."
   ]
  },
  {
   "cell_type": "markdown",
   "id": "e105e8e8",
   "metadata": {},
   "source": [
    "### <font color=teal> Subquestion 2 </font>"
   ]
  },
  {
   "cell_type": "markdown",
   "id": "0643c2aa",
   "metadata": {},
   "source": [
    "### <font color=teal> Sub 1 of Subquestion 2 </font>"
   ]
  },
  {
   "cell_type": "markdown",
   "id": "c15c0aa6",
   "metadata": {},
   "source": [
    "**Which tendecy of the judges could explain the gap in the results?** \n",
    "\n",
    "<font color=purple> Hint </font>: Which scenario would more likely result a death sentence?"
   ]
  },
  {
   "cell_type": "markdown",
   "id": "e11d2cb8",
   "metadata": {},
   "source": [
    "There are a possible judge's tendencies that could help explain the discrepency:\n",
    "\n",
    "(1) <font color=#DC143C> Background </font>"
   ]
  },
  {
   "cell_type": "markdown",
   "id": "9625c3b9",
   "metadata": {},
   "source": [
    "### <font color=teal> Sub 2 of Subquestion 2 </font>"
   ]
  },
  {
   "cell_type": "markdown",
   "id": "8bc4b010",
   "metadata": {},
   "source": [
    "**Which tendecy of the defendee could explain the gap in the results?** \n",
    "\n",
    "<font color=purple> Hint </font>: What is the relation between the race of the victim and the defendee's race?"
   ]
  },
  {
   "cell_type": "markdown",
   "id": "828b09ea",
   "metadata": {},
   "source": [
    "There are a few tendencies of the defendee's that could help explain the discrepency:\n",
    "\n",
    "(1) <font color=red> Gangcrimes </font> It could be the case that since so many of the black on black murders were gang-related and for some reason gang-related murders result in the death penalty less often.\n",
    "\n",
    "\n",
    "(2) <font color=red> Robbery </font>: It could be the case that when a black person murders a white person it's a result of robbery gone wrong.As we would assume a death penalty would be the verdict only if the crime was excessively heinous it \n",
    "\n",
    "\n",
    "(3)\n"
   ]
  },
  {
   "cell_type": "code",
   "execution_count": null,
   "id": "713f8078",
   "metadata": {},
   "outputs": [],
   "source": []
  }
 ],
 "metadata": {
  "kernelspec": {
   "display_name": "Python 3 (ipykernel)",
   "language": "python",
   "name": "python3"
  },
  "language_info": {
   "codemirror_mode": {
    "name": "ipython",
    "version": 3
   },
   "file_extension": ".py",
   "mimetype": "text/x-python",
   "name": "python",
   "nbconvert_exporter": "python",
   "pygments_lexer": "ipython3",
   "version": "3.9.13"
  }
 },
 "nbformat": 4,
 "nbformat_minor": 5
}
