{
 "cells": [
  {
   "cell_type": "markdown",
   "id": "fb6a02b8",
   "metadata": {},
   "source": [
    "# <font color=571B7E> Data Analysis Assignment Number Three - Bootstraps and Salaries </font>"
   ]
  },
  {
   "cell_type": "code",
   "execution_count": 1,
   "id": "f01f669c",
   "metadata": {},
   "outputs": [],
   "source": [
    "import pandas as pd \n",
    "import seaborn as sns\n",
    "import numpy as np\n",
    "from matplotlib import pyplot as plt\n",
    "import warnings\n",
    "warnings.simplefilter(action='ignore', category=FutureWarning) #Was added because of some numpy warning regarding\n",
    "                                                               # indexing floats in an array after updating numpy\n",
    "df = pd.read_csv('ds_salaries.csv')"
   ]
  },
  {
   "cell_type": "markdown",
   "id": "8920efb1",
   "metadata": {},
   "source": [
    "# <font color = red>  Part One - Data Field salaries Dataset </font>"
   ]
  },
  {
   "cell_type": "markdown",
   "id": "500522a7",
   "metadata": {},
   "source": [
    "## <font color=blue> Preprocessing the Dataset </font>"
   ]
  },
  {
   "cell_type": "markdown",
   "id": "fa9daf16",
   "metadata": {},
   "source": [
    "Before we begin answering the questions in this assignment in order to avoid misjudgments, we should analyze the dataset we are working with."
   ]
  },
  {
   "cell_type": "markdown",
   "id": "a3b3ce4b",
   "metadata": {},
   "source": [
    "What is the shape of the data set:"
   ]
  },
  {
   "cell_type": "code",
   "execution_count": 2,
   "id": "6f517678",
   "metadata": {},
   "outputs": [
    {
     "name": "stdout",
     "output_type": "stream",
     "text": [
      "The data set has 1565 rows and 6 columns.\n"
     ]
    }
   ],
   "source": [
    "#Print the dataframe dimensions in an implicit manner.\n",
    "print(f'The data set has {df.shape[0]} rows and {df.shape[1]} columns.')"
   ]
  },
  {
   "cell_type": "markdown",
   "id": "4aa98921",
   "metadata": {},
   "source": [
    "Are there any missing values in our dataset?"
   ]
  },
  {
   "cell_type": "code",
   "execution_count": 3,
   "id": "40004c5b",
   "metadata": {},
   "outputs": [
    {
     "data": {
      "text/plain": [
       "experience_level    0\n",
       "employment_type     0\n",
       "job_title           0\n",
       "salary_in_usd       0\n",
       "remote_ratio        0\n",
       "company_size        0\n",
       "dtype: int64"
      ]
     },
     "execution_count": 3,
     "metadata": {},
     "output_type": "execute_result"
    }
   ],
   "source": [
    "#Check if there are any null elements in the dataframe.\n",
    "df.isna().sum()"
   ]
  },
  {
   "cell_type": "markdown",
   "id": "2b49c7f2",
   "metadata": {},
   "source": [
    "It appears the dataset doesn't contain any anomalies such as missing data so it should be \"safe\" to operate on it without pre-processing it."
   ]
  },
  {
   "cell_type": "markdown",
   "id": "603827da",
   "metadata": {},
   "source": [
    "## <font color=blue> Question One </font>  "
   ]
  },
  {
   "cell_type": "markdown",
   "id": "cddc5820",
   "metadata": {},
   "source": [
    "**Based on a survey that had been carried out on feburary 2023, the ratio of americans who entirely work from home is 35%.\n",
    "Under the assumption that this variable had also been measured amongst the \"Data\" workers in the US and had been found to be similiar:** \n",
    "\n",
    "**Does the csv (data file) represent well the population of the \"Data\" workers? Or does it countain a sub representation for workers that work entirely from home?**\n",
    "\n",
    "**Test the claim using the variable <font color=#FF5F1F> remote_ratio </font> with a siginificane level of <font color=#FF5F1F> 0.05 </font>.**"
   ]
  },
  {
   "cell_type": "markdown",
   "id": "c3704097",
   "metadata": {},
   "source": [
    "### <font color=teal> Subquestion 1 </font>"
   ]
  },
  {
   "cell_type": "markdown",
   "id": "3c2aedf1",
   "metadata": {},
   "source": [
    "**State the null hypothesis and the alternative hypothesis.**"
   ]
  },
  {
   "cell_type": "markdown",
   "id": "ceab4a24",
   "metadata": {},
   "source": [
    "Let $p$ be the precentage of workers that work entirely from home.\n",
    "$$ \n",
    "H_0: p = 35\\% \\\n",
    "$$\n",
    "$$\n",
    " H_1: p \\neq 35\\%\n",
    "$$"
   ]
  },
  {
   "cell_type": "markdown",
   "id": "5d76eff6",
   "metadata": {},
   "source": [
    "### <font color=teal> Subquestion 2 </font>"
   ]
  },
  {
   "cell_type": "markdown",
   "id": "ae956183",
   "metadata": {},
   "source": [
    "**What is the test statistic?**"
   ]
  },
  {
   "cell_type": "markdown",
   "id": "1731a90a",
   "metadata": {},
   "source": [
    "The test statistic in this question would be the ratio of data related field employees that work from home in our dataframe."
   ]
  },
  {
   "cell_type": "code",
   "execution_count": 4,
   "id": "6fd5135d",
   "metadata": {},
   "outputs": [
    {
     "name": "stdout",
     "output_type": "stream",
     "text": [
      "Our test statistic value is 32.46% of employees that work completely remote.\n"
     ]
    }
   ],
   "source": [
    "#Calculate the ratio of data related field employees\n",
    "prob_remote_in_data = len(df[df.remote_ratio == \"fully remote\"])/df.shape[0]  \n",
    "prob_remote_in_data_rounded = round(prob_remote_in_data*100,3)\n",
    "print(f'Our test statistic value is {prob_remote_in_data_rounded}% of employees that work completely remote.')"
   ]
  },
  {
   "cell_type": "markdown",
   "id": "c749ee11",
   "metadata": {},
   "source": [
    "### <font color=teal> Subquestion 3 </font>"
   ]
  },
  {
   "cell_type": "markdown",
   "id": "b4f63ce4",
   "metadata": {},
   "source": [
    "**Write code that test the hypothesis using simulation. Write explanations for your code.**"
   ]
  },
  {
   "cell_type": "code",
   "execution_count": 5,
   "id": "2438f17d",
   "metadata": {},
   "outputs": [],
   "source": [
    "'''Similar to the dice roll simulations create a simulation under the null hypothesis\n",
    "   employment_type would be the types we are intersted in\n",
    "   prob_for_type would be the probability for every type\n",
    "   sampling_size would be the size ouf or simulations which match our sample\n",
    "   prob_remote_in_data is our real probability\n",
    "    '''\n",
    "employment_type = [\"fully remote\",\"not fully remote\"]\n",
    "prob_for_type = [0.35,0.65]                           \n",
    "sampling_size = df.shape[0]                           \n",
    "prob_remote_in_data = len(df[df.remote_ratio == \"fully remote\"])/df.shape[0]  "
   ]
  },
  {
   "cell_type": "code",
   "execution_count": 6,
   "id": "cf8e8b78",
   "metadata": {},
   "outputs": [],
   "source": [
    "def single_mean_simulation(types,prob_for_type,size,desired_type):\n",
    "    '''This function creates a single simulation under the null hypothesis and counts how many desired types \n",
    "        we have in our sample\n",
    "        returns a ratio describing the percentage of desired type count in our overall size'''\n",
    "    new_simulated_sample = np.random.choice(employment_type, p=prob_for_type, size=size)\n",
    "    count = 0\n",
    "    for i in range(size):\n",
    "        if new_simulated_sample[i] == desired_type:\n",
    "            count += 1\n",
    "    return count/size"
   ]
  },
  {
   "cell_type": "code",
   "execution_count": 7,
   "id": "721bf5e9",
   "metadata": {},
   "outputs": [],
   "source": [
    "def mean_simulation(types , prob_for_type, num_replications, original_sample_size , desired_type): \n",
    "    '''This is a wrapper function for single_mean_simulation , calls it num_replication \n",
    "       times and puts them all in an array\n",
    "       returns an array of percentage of desired in simulations'''\n",
    "    \n",
    "    simulated_means = np.empty(num_replications)\n",
    "    for i in range(num_replications):\n",
    "        simulated_means[i] = single_mean_simulation(types,prob_for_type,original_sample_size,desired_type)\n",
    "\n",
    "    \n",
    "    return simulated_means"
   ]
  },
  {
   "cell_type": "code",
   "execution_count": 8,
   "id": "7837fce0",
   "metadata": {},
   "outputs": [],
   "source": [
    "simulated_means = mean_simulation(employment_type,prob_for_type,1000,sampling_size,\"fully remote\")"
   ]
  },
  {
   "cell_type": "markdown",
   "id": "2bf19e2b",
   "metadata": {},
   "source": [
    "### <font color=teal> Subquestion 4 </font>"
   ]
  },
  {
   "cell_type": "markdown",
   "id": "e0a1d777",
   "metadata": {},
   "source": [
    "**What is your conclusion? Present a numerative result as well as a graph depicting the test result**"
   ]
  },
  {
   "cell_type": "code",
   "execution_count": 9,
   "id": "140c2bc0",
   "metadata": {},
   "outputs": [
    {
     "data": {
      "image/png": "[encoded data removed]",
      "text/plain": [
       "<Figure size 875x500 with 1 Axes>"
      ]
     },
     "metadata": {},
     "output_type": "display_data"
    }
   ],
   "source": [
    "#Display the means of the simulations in a histogram plot with 95% CI and our test statistic.\n",
    "facetgrid_obj = sns.displot(simulated_means, stat='count',aspect = 1.75)\n",
    "facetgrid_obj.axes[0, 0].scatter(prob_remote_in_data, 0, s=150, color='red')  # draw observed value\n",
    "facetgrid_obj.axes[0, 0].legend(['Ratio of Data Field Employees Work Only From Home'])\n",
    "left_end = np.percentile(simulated_means, 2.5,method='higher')\n",
    "right_end = np.percentile(simulated_means, 97.5,method='higher')\n",
    "facetgrid_obj.axes[0, 0].hlines(y=0, xmin=left_end, xmax=right_end, colors='orange', linestyles='solid', lw=5)\n",
    "facetgrid_obj.set(title='Distribution of simulated full remote data employees', xlabel='average of employees working fully remote in percentage', ylabel='count')\n",
    "plt.show(facetgrid_obj)"
   ]
  },
  {
   "cell_type": "code",
   "execution_count": 10,
   "id": "6c7ee4ce",
   "metadata": {},
   "outputs": [
    {
     "name": "stdout",
     "output_type": "stream",
     "text": [
      "Using Confidence interval of confidence 95% our test statistic is 32.46% which is not within the confidence interval  [32.716% , 37.572%]\n"
     ]
    }
   ],
   "source": [
    "print(f'Using Confidence interval of confidence 95% our test statistic is {prob_remote_in_data_rounded}% which is not within the confidence interval  [{round(left_end*100,3)}% , {round(right_end*100,3)}%]' )"
   ]
  },
  {
   "cell_type": "markdown",
   "id": "3a7fa8fe",
   "metadata": {},
   "source": [
    "As the question demanded both numerical value and a graph representation we can see based on the graph that the mean of the dataset is not inside of the confidence interval therefore we will reject the null hypothesis.\n",
    "The dataset does not represent the salaries of people who work in the data field,under the assumption that on average 35% of data field related employees work entirely remotely."
   ]
  },
  {
   "cell_type": "markdown",
   "id": "d4fc2102",
   "metadata": {},
   "source": [
    "## <font color=blue> Question Two </font>  "
   ]
  },
  {
   "cell_type": "markdown",
   "id": "e30ebb93",
   "metadata": {},
   "source": [
    "**<font color=#FF5F1F> Background </font>**: **There is a claim that Data Scientists earn in average a salary that is equal to the salary that Data Engineers earn. Test the claim based on the given data, under the assumption that it represents well the \"Data\" field related jobs in the US**"
   ]
  },
  {
   "cell_type": "markdown",
   "id": "36d6ca68",
   "metadata": {},
   "source": [
    "### <font color=teal> Subquestion 1 </font>"
   ]
  },
  {
   "cell_type": "markdown",
   "id": "87fc1516",
   "metadata": {},
   "source": [
    "**State the null hypothesis and the alternative hypothesis**"
   ]
  },
  {
   "cell_type": "markdown",
   "id": "c9fb85b0",
   "metadata": {},
   "source": [
    "Let $d$ denote the difference between the mean salary of data scientists and data engineers.\n",
    "\n",
    "\n",
    "$$ \n",
    "H_0: d = 0\\ \\\n",
    "$$\n",
    "$$\n",
    " H_1: d \\neq 0\\\n",
    "$$"
   ]
  },
  {
   "cell_type": "markdown",
   "id": "c21a3196",
   "metadata": {},
   "source": [
    "### <font color=teal> Subquestion 2 </font>"
   ]
  },
  {
   "cell_type": "markdown",
   "id": "bd2afe1b",
   "metadata": {},
   "source": [
    "**What is the test statistic?**"
   ]
  },
  {
   "cell_type": "markdown",
   "id": "a5179f6c",
   "metadata": {},
   "source": [
    "The test statitistic is the difference between the mean salary of data scientists and data engineers in our dataset."
   ]
  },
  {
   "cell_type": "markdown",
   "id": "a2404304",
   "metadata": {},
   "source": [
    "### <font color=teal> Subquestion 3 </font>"
   ]
  },
  {
   "cell_type": "markdown",
   "id": "d32459db",
   "metadata": {},
   "source": [
    "**Write code that tests the hypothesis using confidence interval (with at aleast 5000 replications). Explain the code that you write.**"
   ]
  },
  {
   "cell_type": "code",
   "execution_count": 11,
   "id": "56243d83",
   "metadata": {},
   "outputs": [
    {
     "name": "stdout",
     "output_type": "stream",
     "text": [
      "Before answering this question lets first figure out how many engineers we have of both types.\n",
      "There are 315 Data Scientists in this data set.\n",
      "There are 472 Data Engineers in this data set.\n"
     ]
    }
   ],
   "source": [
    "#Calculate and print the amount of data scientists and data engineers in our database\n",
    "data_scientist_count = df[df['job_title'] == \"Data Scientist\"].shape[0]\n",
    "data_engineer_count =  df[df['job_title'] == \"Data Engineer\"].shape[0]\n",
    "print(\"Before answering this question lets first figure out how many engineers we have of both types.\")\n",
    "print(f'There are {data_scientist_count} Data Scientists in this data set.')\n",
    "print(f'There are {data_engineer_count} Data Engineers in this data set.')"
   ]
  },
  {
   "cell_type": "markdown",
   "id": "f22c53c5",
   "metadata": {},
   "source": [
    "Next, we should filter out the dataset so we could more easily work on it."
   ]
  },
  {
   "cell_type": "code",
   "execution_count": 12,
   "id": "dd0744f2",
   "metadata": {},
   "outputs": [],
   "source": [
    "#create a new dataframe filtering out the irrelevent job titles.\n",
    "df_DE_DS = df[(df['job_title'] == \"Data Scientist\") | (df['job_title'] == \"Data Engineer\")] \n",
    "df_DE_DS.reset_index(inplace=True) #There's no need for this line but it's nice to have.\n",
    "df_DE_DS = df_DE_DS.drop(columns={'index'}) #Pandas refuses to allow inplace"
   ]
  },
  {
   "cell_type": "markdown",
   "id": "31c978c7",
   "metadata": {},
   "source": [
    "The Dataset we are working on in this question:"
   ]
  },
  {
   "cell_type": "code",
   "execution_count": 13,
   "id": "6393b589",
   "metadata": {},
   "outputs": [
    {
     "data": {
      "text/html": [
       "<div>\n",
       "<style scoped>\n",
       "    .dataframe tbody tr th:only-of-type {\n",
       "        vertical-align: middle;\n",
       "    }\n",
       "\n",
       "    .dataframe tbody tr th {\n",
       "        vertical-align: top;\n",
       "    }\n",
       "\n",
       "    .dataframe thead th {\n",
       "        text-align: right;\n",
       "    }\n",
       "</style>\n",
       "<table border=\"1\" class=\"dataframe\">\n",
       "  <thead>\n",
       "    <tr style=\"text-align: right;\">\n",
       "      <th></th>\n",
       "      <th>experience_level</th>\n",
       "      <th>employment_type</th>\n",
       "      <th>job_title</th>\n",
       "      <th>salary_in_usd</th>\n",
       "      <th>remote_ratio</th>\n",
       "      <th>company_size</th>\n",
       "    </tr>\n",
       "  </thead>\n",
       "  <tbody>\n",
       "    <tr>\n",
       "      <th>0</th>\n",
       "      <td>SE</td>\n",
       "      <td>FT</td>\n",
       "      <td>Data Scientist</td>\n",
       "      <td>147100</td>\n",
       "      <td>hybrid</td>\n",
       "      <td>M</td>\n",
       "    </tr>\n",
       "    <tr>\n",
       "      <th>1</th>\n",
       "      <td>SE</td>\n",
       "      <td>FT</td>\n",
       "      <td>Data Scientist</td>\n",
       "      <td>90700</td>\n",
       "      <td>hybrid</td>\n",
       "      <td>M</td>\n",
       "    </tr>\n",
       "    <tr>\n",
       "      <th>2</th>\n",
       "      <td>SE</td>\n",
       "      <td>FT</td>\n",
       "      <td>Data Scientist</td>\n",
       "      <td>170000</td>\n",
       "      <td>hybrid</td>\n",
       "      <td>M</td>\n",
       "    </tr>\n",
       "    <tr>\n",
       "      <th>3</th>\n",
       "      <td>SE</td>\n",
       "      <td>FT</td>\n",
       "      <td>Data Scientist</td>\n",
       "      <td>150000</td>\n",
       "      <td>hybrid</td>\n",
       "      <td>M</td>\n",
       "    </tr>\n",
       "    <tr>\n",
       "      <th>4</th>\n",
       "      <td>SE</td>\n",
       "      <td>FT</td>\n",
       "      <td>Data Engineer</td>\n",
       "      <td>253200</td>\n",
       "      <td>hybrid</td>\n",
       "      <td>M</td>\n",
       "    </tr>\n",
       "    <tr>\n",
       "      <th>...</th>\n",
       "      <td>...</td>\n",
       "      <td>...</td>\n",
       "      <td>...</td>\n",
       "      <td>...</td>\n",
       "      <td>...</td>\n",
       "      <td>...</td>\n",
       "    </tr>\n",
       "    <tr>\n",
       "      <th>782</th>\n",
       "      <td>SE</td>\n",
       "      <td>FT</td>\n",
       "      <td>Data Engineer</td>\n",
       "      <td>182000</td>\n",
       "      <td>fully remote</td>\n",
       "      <td>M</td>\n",
       "    </tr>\n",
       "    <tr>\n",
       "      <th>783</th>\n",
       "      <td>MI</td>\n",
       "      <td>FT</td>\n",
       "      <td>Data Scientist</td>\n",
       "      <td>130000</td>\n",
       "      <td>hybrid</td>\n",
       "      <td>M</td>\n",
       "    </tr>\n",
       "    <tr>\n",
       "      <th>784</th>\n",
       "      <td>MI</td>\n",
       "      <td>FT</td>\n",
       "      <td>Data Scientist</td>\n",
       "      <td>90000</td>\n",
       "      <td>hybrid</td>\n",
       "      <td>M</td>\n",
       "    </tr>\n",
       "    <tr>\n",
       "      <th>785</th>\n",
       "      <td>EN</td>\n",
       "      <td>FT</td>\n",
       "      <td>Data Engineer</td>\n",
       "      <td>160000</td>\n",
       "      <td>hybrid</td>\n",
       "      <td>M</td>\n",
       "    </tr>\n",
       "    <tr>\n",
       "      <th>786</th>\n",
       "      <td>EN</td>\n",
       "      <td>FT</td>\n",
       "      <td>Data Engineer</td>\n",
       "      <td>135000</td>\n",
       "      <td>hybrid</td>\n",
       "      <td>M</td>\n",
       "    </tr>\n",
       "  </tbody>\n",
       "</table>\n",
       "<p>787 rows × 6 columns</p>\n",
       "</div>"
      ],
      "text/plain": [
       "    experience_level employment_type       job_title  salary_in_usd  \\\n",
       "0                 SE              FT  Data Scientist         147100   \n",
       "1                 SE              FT  Data Scientist          90700   \n",
       "2                 SE              FT  Data Scientist         170000   \n",
       "3                 SE              FT  Data Scientist         150000   \n",
       "4                 SE              FT   Data Engineer         253200   \n",
       "..               ...             ...             ...            ...   \n",
       "782               SE              FT   Data Engineer         182000   \n",
       "783               MI              FT  Data Scientist         130000   \n",
       "784               MI              FT  Data Scientist          90000   \n",
       "785               EN              FT   Data Engineer         160000   \n",
       "786               EN              FT   Data Engineer         135000   \n",
       "\n",
       "     remote_ratio company_size  \n",
       "0          hybrid            M  \n",
       "1          hybrid            M  \n",
       "2          hybrid            M  \n",
       "3          hybrid            M  \n",
       "4          hybrid            M  \n",
       "..            ...          ...  \n",
       "782  fully remote            M  \n",
       "783        hybrid            M  \n",
       "784        hybrid            M  \n",
       "785        hybrid            M  \n",
       "786        hybrid            M  \n",
       "\n",
       "[787 rows x 6 columns]"
      ]
     },
     "execution_count": 13,
     "metadata": {},
     "output_type": "execute_result"
    }
   ],
   "source": [
    "#A simple visualization of our new Dataframe.\n",
    "df_DE_DS"
   ]
  },
  {
   "cell_type": "code",
   "execution_count": 14,
   "id": "772c9a85",
   "metadata": {},
   "outputs": [],
   "source": [
    "def diff_of_avgs(df, column_name, grouping_var):\n",
    "    '''This function gets a df and calculates the difference of two means\n",
    "    df is our dataframe\n",
    "    column_name is our column of interest\n",
    "    grouping_var would be the feature we would like to seperate by our two groups \n",
    "    returns the difference between the two averages'''\n",
    "    grpby_var = df.groupby(grouping_var) #creating a groupby object for our two labels\n",
    "    avgs = grpby_var[column_name].mean() #calculates the mean for each series\n",
    "    return avgs[1] - avgs[0]            \n",
    "\n",
    "def bootstrap_mean_difference(original_sample, column_name, grouping_var, num_replications):\n",
    "    '''This function creates an array of means of bootstraps generated by seperate samples\n",
    "    original_df would be the unaltered Dataframe\n",
    "    alt_df would be the filtered dataframe\n",
    "    column_of_interest would be the column we are interested to test\n",
    "    bootstrap_count describes the amount of bootstraps\n",
    "    sample_size would be the size of each sample we want to generate\n",
    "    returns an array of differences between the means'''    \n",
    "    original_sample_size = original_sample.shape[0] # we need to replicate with the same sample size\n",
    "    original_sample_cols_of_interest = original_sample[[column_name, grouping_var]]\n",
    "    bstrap_mean_diffs = np.empty(num_replications)\n",
    "    for i in range(num_replications):\n",
    "        bootstrap_sample = original_sample_cols_of_interest.sample(original_sample_size, replace=True) # note WITH REPLACEMENT!\n",
    "        resampled_mean_diff = diff_of_avgs(bootstrap_sample, column_name, grouping_var)\n",
    "        bstrap_mean_diffs[i] = resampled_mean_diff\n",
    "    \n",
    "    return bstrap_mean_diffs"
   ]
  },
  {
   "cell_type": "code",
   "execution_count": 15,
   "id": "b4533934",
   "metadata": {},
   "outputs": [],
   "source": [
    "#Create the bootstrap array\n",
    "difference_in_salary = bootstrap_mean_difference(df_DE_DS , 'salary_in_usd','job_title',5000)"
   ]
  },
  {
   "cell_type": "markdown",
   "id": "6965374c",
   "metadata": {},
   "source": [
    "### <font color=teal> Subquestion 4 </font>"
   ]
  },
  {
   "cell_type": "markdown",
   "id": "b50075ea",
   "metadata": {},
   "source": [
    "**Find confidence intervals to the paramater values you found with confidence level of 0.99 and 0.95**"
   ]
  },
  {
   "cell_type": "markdown",
   "id": "dc567b4c",
   "metadata": {},
   "source": [
    "**<font color=purple> For 95% confidence level: </font>**"
   ]
  },
  {
   "cell_type": "code",
   "execution_count": 16,
   "id": "f58b7823",
   "metadata": {},
   "outputs": [
    {
     "data": {
      "image/png": "[encoded data removed]",
      "text/plain": [
       "<Figure size 875x500 with 1 Axes>"
      ]
     },
     "metadata": {},
     "output_type": "display_data"
    }
   ],
   "source": [
    "#Display the histogram of our difference in salary means with a 95% CI\n",
    "facetgrid_obj = sns.displot(difference_in_salary, stat='count',aspect = 1.75)\n",
    "facetgrid_obj.set(title='Difference in Salary between Data Scientists and Data Engineers on Average', xlabel='Average Salary Gap in USD', ylabel='count')\n",
    "\n",
    "left_end = np.percentile(difference_in_salary, 2.5,method='higher')\n",
    "right_end = np.percentile(difference_in_salary, 97.5,method='higher')\n",
    "facetgrid_obj.axes[0, 0].hlines(y=0, xmin=left_end, xmax=right_end, colors='orange', linestyles='solid', lw=5)\n",
    "facetgrid_obj.axes[0,0].legend(['95% Confidence Interval'])\n",
    "\n",
    "plt.show(facetgrid_obj)"
   ]
  },
  {
   "cell_type": "code",
   "execution_count": 17,
   "id": "037b68ec",
   "metadata": {},
   "outputs": [
    {
     "name": "stdout",
     "output_type": "stream",
     "text": [
      "The Confidence Interval of 95% confidence is of range = [5090.168278388272$,20294.625031981792$]\n"
     ]
    }
   ],
   "source": [
    "print(f'The Confidence Interval of 95% confidence is of range = [{left_end}$,{right_end}$]')"
   ]
  },
  {
   "cell_type": "markdown",
   "id": "7f07112c",
   "metadata": {},
   "source": [
    "**<font color=purple> For 99% confidence level: </font>**"
   ]
  },
  {
   "cell_type": "code",
   "execution_count": 18,
   "id": "e44bcae4",
   "metadata": {},
   "outputs": [
    {
     "data": {
      "image/png": "[encoded data removed]",
      "text/plain": [
       "<Figure size 875x500 with 1 Axes>"
      ]
     },
     "metadata": {},
     "output_type": "display_data"
    }
   ],
   "source": [
    "facetgrid_obj = sns.displot(difference_in_salary, stat='count',aspect = 1.75)\n",
    "facetgrid_obj.set(title='Difference in Salary between Data Scientists and Data Engineers on Average', xlabel='Average Salary Gap in USD', ylabel='count')\n",
    "\n",
    "left_end = np.percentile(difference_in_salary, 0.5,method='higher')\n",
    "right_end = np.percentile(difference_in_salary, 99.5,method='higher')\n",
    "facetgrid_obj.axes[0, 0].hlines(y=0, xmin=left_end, xmax=right_end, colors='orange', linestyles='solid', lw=5)\n",
    "facetgrid_obj.axes[0, 0].legend(['99% Confidence IntervaL'])\n",
    "plt.show(facetgrid_obj)"
   ]
  },
  {
   "cell_type": "code",
   "execution_count": 19,
   "id": "05c9a050",
   "metadata": {},
   "outputs": [
    {
     "name": "stdout",
     "output_type": "stream",
     "text": [
      "The Confidence Interval of 99% confidence is of range = [2658.872$,22635.123$]\n"
     ]
    }
   ],
   "source": [
    "print(f'The Confidence Interval of 99% confidence is of range = [{round(left_end,3)}$,{round(right_end,3)}$]')"
   ]
  },
  {
   "cell_type": "markdown",
   "id": "112b0c64",
   "metadata": {},
   "source": [
    "### <font color=teal> Subquestion 5 </font>"
   ]
  },
  {
   "cell_type": "markdown",
   "id": "f85df234",
   "metadata": {},
   "source": [
    "**What is your conclusion? Present numerical values as well as graphs depicting the test' result for both of the mentioned confidence levels**"
   ]
  },
  {
   "cell_type": "markdown",
   "id": "f4bd4c1f",
   "metadata": {},
   "source": [
    "It is clear that for both confidence levels our test statistic is not within our confidence interval therefore we should reject the null hypothesis data engineers and data scientists do not earn on average the same salary."
   ]
  },
  {
   "cell_type": "markdown",
   "id": "c24b34bf",
   "metadata": {},
   "source": [
    "## <font color=blue> Question Three </font>  "
   ]
  },
  {
   "cell_type": "markdown",
   "id": "98265855",
   "metadata": {},
   "source": [
    "**Calculate the confidence interval of confidence 95% for mean salaries of workers in medium sized companies(M). Explain the code that you wrote and explicitly display the confidence interval.**"
   ]
  },
  {
   "cell_type": "markdown",
   "id": "c56a4584",
   "metadata": {},
   "source": [
    "As we did before we should first filter out the desired group, in this question it would be medium sized companies."
   ]
  },
  {
   "cell_type": "code",
   "execution_count": 20,
   "id": "ec59df9c",
   "metadata": {},
   "outputs": [],
   "source": [
    "#Filter out our dataframe based on the requirement and reset the index.\n",
    "df_M_size_comp = df[df['company_size'] == \"M\"]\n",
    "df_M_size_comp.reset_index(inplace=True)\n",
    "df_M_size_comp = df_M_size_comp.drop(columns={'index'})"
   ]
  },
  {
   "cell_type": "markdown",
   "id": "91eb86de",
   "metadata": {},
   "source": [
    "The Dataset in this question:"
   ]
  },
  {
   "cell_type": "code",
   "execution_count": 21,
   "id": "9435bad5",
   "metadata": {},
   "outputs": [
    {
     "data": {
      "text/html": [
       "<div>\n",
       "<style scoped>\n",
       "    .dataframe tbody tr th:only-of-type {\n",
       "        vertical-align: middle;\n",
       "    }\n",
       "\n",
       "    .dataframe tbody tr th {\n",
       "        vertical-align: top;\n",
       "    }\n",
       "\n",
       "    .dataframe thead th {\n",
       "        text-align: right;\n",
       "    }\n",
       "</style>\n",
       "<table border=\"1\" class=\"dataframe\">\n",
       "  <thead>\n",
       "    <tr style=\"text-align: right;\">\n",
       "      <th></th>\n",
       "      <th>experience_level</th>\n",
       "      <th>employment_type</th>\n",
       "      <th>job_title</th>\n",
       "      <th>salary_in_usd</th>\n",
       "      <th>remote_ratio</th>\n",
       "      <th>company_size</th>\n",
       "    </tr>\n",
       "  </thead>\n",
       "  <tbody>\n",
       "    <tr>\n",
       "      <th>0</th>\n",
       "      <td>SE</td>\n",
       "      <td>FT</td>\n",
       "      <td>Data Scientist</td>\n",
       "      <td>147100</td>\n",
       "      <td>hybrid</td>\n",
       "      <td>M</td>\n",
       "    </tr>\n",
       "    <tr>\n",
       "      <th>1</th>\n",
       "      <td>SE</td>\n",
       "      <td>FT</td>\n",
       "      <td>Data Scientist</td>\n",
       "      <td>90700</td>\n",
       "      <td>hybrid</td>\n",
       "      <td>M</td>\n",
       "    </tr>\n",
       "    <tr>\n",
       "      <th>2</th>\n",
       "      <td>SE</td>\n",
       "      <td>FT</td>\n",
       "      <td>Data Analyst</td>\n",
       "      <td>130000</td>\n",
       "      <td>fully remote</td>\n",
       "      <td>M</td>\n",
       "    </tr>\n",
       "    <tr>\n",
       "      <th>3</th>\n",
       "      <td>SE</td>\n",
       "      <td>FT</td>\n",
       "      <td>Data Analyst</td>\n",
       "      <td>100000</td>\n",
       "      <td>fully remote</td>\n",
       "      <td>M</td>\n",
       "    </tr>\n",
       "    <tr>\n",
       "      <th>4</th>\n",
       "      <td>SE</td>\n",
       "      <td>FT</td>\n",
       "      <td>Data Modeler</td>\n",
       "      <td>147100</td>\n",
       "      <td>hybrid</td>\n",
       "      <td>M</td>\n",
       "    </tr>\n",
       "    <tr>\n",
       "      <th>...</th>\n",
       "      <td>...</td>\n",
       "      <td>...</td>\n",
       "      <td>...</td>\n",
       "      <td>...</td>\n",
       "      <td>...</td>\n",
       "      <td>...</td>\n",
       "    </tr>\n",
       "    <tr>\n",
       "      <th>1496</th>\n",
       "      <td>MI</td>\n",
       "      <td>FT</td>\n",
       "      <td>Data Analyst</td>\n",
       "      <td>100000</td>\n",
       "      <td>hybrid</td>\n",
       "      <td>M</td>\n",
       "    </tr>\n",
       "    <tr>\n",
       "      <th>1497</th>\n",
       "      <td>MI</td>\n",
       "      <td>FT</td>\n",
       "      <td>Data Scientist</td>\n",
       "      <td>130000</td>\n",
       "      <td>hybrid</td>\n",
       "      <td>M</td>\n",
       "    </tr>\n",
       "    <tr>\n",
       "      <th>1498</th>\n",
       "      <td>MI</td>\n",
       "      <td>FT</td>\n",
       "      <td>Data Scientist</td>\n",
       "      <td>90000</td>\n",
       "      <td>hybrid</td>\n",
       "      <td>M</td>\n",
       "    </tr>\n",
       "    <tr>\n",
       "      <th>1499</th>\n",
       "      <td>EN</td>\n",
       "      <td>FT</td>\n",
       "      <td>Data Engineer</td>\n",
       "      <td>160000</td>\n",
       "      <td>hybrid</td>\n",
       "      <td>M</td>\n",
       "    </tr>\n",
       "    <tr>\n",
       "      <th>1500</th>\n",
       "      <td>EN</td>\n",
       "      <td>FT</td>\n",
       "      <td>Data Engineer</td>\n",
       "      <td>135000</td>\n",
       "      <td>hybrid</td>\n",
       "      <td>M</td>\n",
       "    </tr>\n",
       "  </tbody>\n",
       "</table>\n",
       "<p>1501 rows × 6 columns</p>\n",
       "</div>"
      ],
      "text/plain": [
       "     experience_level employment_type       job_title  salary_in_usd  \\\n",
       "0                  SE              FT  Data Scientist         147100   \n",
       "1                  SE              FT  Data Scientist          90700   \n",
       "2                  SE              FT    Data Analyst         130000   \n",
       "3                  SE              FT    Data Analyst         100000   \n",
       "4                  SE              FT    Data Modeler         147100   \n",
       "...               ...             ...             ...            ...   \n",
       "1496               MI              FT    Data Analyst         100000   \n",
       "1497               MI              FT  Data Scientist         130000   \n",
       "1498               MI              FT  Data Scientist          90000   \n",
       "1499               EN              FT   Data Engineer         160000   \n",
       "1500               EN              FT   Data Engineer         135000   \n",
       "\n",
       "      remote_ratio company_size  \n",
       "0           hybrid            M  \n",
       "1           hybrid            M  \n",
       "2     fully remote            M  \n",
       "3     fully remote            M  \n",
       "4           hybrid            M  \n",
       "...            ...          ...  \n",
       "1496        hybrid            M  \n",
       "1497        hybrid            M  \n",
       "1498        hybrid            M  \n",
       "1499        hybrid            M  \n",
       "1500        hybrid            M  \n",
       "\n",
       "[1501 rows x 6 columns]"
      ]
     },
     "execution_count": 21,
     "metadata": {},
     "output_type": "execute_result"
    }
   ],
   "source": [
    "#Print to give a sense of what dataframe we are working on.\n",
    "df_M_size_comp"
   ]
  },
  {
   "cell_type": "markdown",
   "id": "171a8d71",
   "metadata": {},
   "source": [
    "Because we are specifically told this dataset contains a sample that represents well to the real world companies of size M we should take it as a sample rather than generating a sample from it. If we generate a sample from it we would be creating a sample from a sample."
   ]
  },
  {
   "cell_type": "code",
   "execution_count": 22,
   "id": "8be6d379",
   "metadata": {},
   "outputs": [],
   "source": [
    "def bootstrap_mean(original_sample, column_name, num_replications):\n",
    "    '''This funcion creates a bootstrap mean using a sample\n",
    "        original_sample is the sample we use to create the bootstraps\n",
    "        column_name is the name of the column we are intersted in\n",
    "        num_replications would be the bootstrap count\n",
    "    '''\n",
    "    original_sample_size = original_sample.shape[0] \n",
    "    original_sample_var_of_interest = original_sample[[column_name]]\n",
    "    bstrap_means = np.empty(num_replications)\n",
    "    for i in range(num_replications):\n",
    "        bootstrap_sample = original_sample_var_of_interest.sample(original_sample_size, replace=True) \n",
    "        resampled_mean = bootstrap_sample.mean()\n",
    "        bstrap_means[i] = resampled_mean\n",
    "    \n",
    "    return bstrap_means"
   ]
  },
  {
   "cell_type": "code",
   "execution_count": 23,
   "id": "82403022",
   "metadata": {},
   "outputs": [],
   "source": [
    "#Creates a single sample and generates a bootstrap of means in the image of that sample.\n",
    "sample = df_M_size_comp.sample(200,replace=True)\n",
    "M_company_simulated_means =  bootstrap_mean(df_M_size_comp,\"salary_in_usd\",5000)"
   ]
  },
  {
   "cell_type": "code",
   "execution_count": 24,
   "id": "eb6cb503",
   "metadata": {},
   "outputs": [
    {
     "data": {
      "image/png": "[encoded data removed]",
      "text/plain": [
       "<Figure size 875x500 with 1 Axes>"
      ]
     },
     "metadata": {},
     "output_type": "display_data"
    }
   ],
   "source": [
    "#Display the sample in a histogram with a 95% CI.\n",
    "facetgrid_obj = sns.displot(M_company_simulated_means, stat='count',aspect = 1.75)\n",
    "facetgrid_obj.set(title='Simulated Average Salary of Medium Sized Company', xlabel='Average Salary in USD', ylabel='count')\n",
    "\n",
    "left_end = np.percentile(M_company_simulated_means, 2.5,method='higher')\n",
    "right_end = np.percentile(M_company_simulated_means, 97.5,method='higher')\n",
    "facetgrid_obj.axes[0, 0].hlines(y=0, xmin=left_end, xmax=right_end, colors='orange', linestyles='solid', lw=5)\n",
    "facetgrid_obj.axes[0, 0].legend(['95% Confidence Interval'])\n",
    "\n",
    "plt.show(facetgrid_obj)"
   ]
  },
  {
   "cell_type": "markdown",
   "id": "38b9985c",
   "metadata": {},
   "source": [
    "The confidence interval for the Simulated Average Salary of Medium Sized Company Employees is:"
   ]
  },
  {
   "cell_type": "code",
   "execution_count": 25,
   "id": "3d2f07b8",
   "metadata": {},
   "outputs": [
    {
     "name": "stdout",
     "output_type": "stream",
     "text": [
      "The lower bound is: 153671.736 USD\n",
      "The upper bound is: 159303.652 USD\n"
     ]
    }
   ],
   "source": [
    "#Display the CI bounds.\n",
    "print(f'The lower bound is: {round(left_end,3)} USD\\nThe upper bound is: {round(right_end,3)} USD')"
   ]
  },
  {
   "cell_type": "markdown",
   "id": "8c9914aa",
   "metadata": {},
   "source": [
    "## <font color=blue> Question Four </font>  "
   ]
  },
  {
   "cell_type": "markdown",
   "id": "dc44eaa8",
   "metadata": {},
   "source": [
    "**<font color=#FF5F1F> Background </font>**:**A certain financial data analysis company  would like to know what is the median that is being paid to workers in the data field. A new clumsy data analyst accidently deleted the data file. In order to find the median, he decided to create a sample and calculate its median using bootstraps. He found a file with data on employees in the data field in one of the e-mails that he recieved, without knowing that the people in the file are only employees that dont work from home completely (Hybrid). The employee picked 150 people at random from the file and asked them their salary. Since he promised a monetary compensation to those that responded, all of the people that recieved the e-mail replied back. Assume the data that was reported is true and exists in the original data file.**"
   ]
  },
  {
   "cell_type": "markdown",
   "id": "9d1a69ed",
   "metadata": {},
   "source": [
    "### <font color=teal> Subquestion 1 </font>"
   ]
  },
  {
   "cell_type": "markdown",
   "id": "bf1b3425",
   "metadata": {},
   "source": [
    "**In order to test the chance the employee succeeded creating (from the sample of hybrid employees) confidence interval of 95% that contains the true median of the salary of all employees, run 100 simulations that sample 150 employees from the population of hybrid employees and calculates for each sample the confidence interval of confidence 95% of the median of their salary. Out of 100 confidence inervals how many of them contains the true median of the employees that work in the \"data field\" as it can be calculated directly from the original data?**"
   ]
  },
  {
   "cell_type": "code",
   "execution_count": 26,
   "id": "162010b4",
   "metadata": {},
   "outputs": [
    {
     "name": "stdout",
     "output_type": "stream",
     "text": [
      "The filtered (hybrid) dataset the employee will sample from:\n"
     ]
    },
    {
     "data": {
      "text/html": [
       "<div>\n",
       "<style scoped>\n",
       "    .dataframe tbody tr th:only-of-type {\n",
       "        vertical-align: middle;\n",
       "    }\n",
       "\n",
       "    .dataframe tbody tr th {\n",
       "        vertical-align: top;\n",
       "    }\n",
       "\n",
       "    .dataframe thead th {\n",
       "        text-align: right;\n",
       "    }\n",
       "</style>\n",
       "<table border=\"1\" class=\"dataframe\">\n",
       "  <thead>\n",
       "    <tr style=\"text-align: right;\">\n",
       "      <th></th>\n",
       "      <th>experience_level</th>\n",
       "      <th>employment_type</th>\n",
       "      <th>job_title</th>\n",
       "      <th>salary_in_usd</th>\n",
       "      <th>remote_ratio</th>\n",
       "      <th>company_size</th>\n",
       "    </tr>\n",
       "  </thead>\n",
       "  <tbody>\n",
       "    <tr>\n",
       "      <th>2</th>\n",
       "      <td>SE</td>\n",
       "      <td>FT</td>\n",
       "      <td>Applied Scientist</td>\n",
       "      <td>222200</td>\n",
       "      <td>hybrid</td>\n",
       "      <td>L</td>\n",
       "    </tr>\n",
       "    <tr>\n",
       "      <th>3</th>\n",
       "      <td>SE</td>\n",
       "      <td>FT</td>\n",
       "      <td>Applied Scientist</td>\n",
       "      <td>136000</td>\n",
       "      <td>hybrid</td>\n",
       "      <td>L</td>\n",
       "    </tr>\n",
       "    <tr>\n",
       "      <th>4</th>\n",
       "      <td>SE</td>\n",
       "      <td>FT</td>\n",
       "      <td>Data Scientist</td>\n",
       "      <td>147100</td>\n",
       "      <td>hybrid</td>\n",
       "      <td>M</td>\n",
       "    </tr>\n",
       "    <tr>\n",
       "      <th>5</th>\n",
       "      <td>SE</td>\n",
       "      <td>FT</td>\n",
       "      <td>Data Scientist</td>\n",
       "      <td>90700</td>\n",
       "      <td>hybrid</td>\n",
       "      <td>M</td>\n",
       "    </tr>\n",
       "    <tr>\n",
       "      <th>8</th>\n",
       "      <td>EN</td>\n",
       "      <td>FT</td>\n",
       "      <td>Applied Scientist</td>\n",
       "      <td>213660</td>\n",
       "      <td>hybrid</td>\n",
       "      <td>L</td>\n",
       "    </tr>\n",
       "    <tr>\n",
       "      <th>...</th>\n",
       "      <td>...</td>\n",
       "      <td>...</td>\n",
       "      <td>...</td>\n",
       "      <td>...</td>\n",
       "      <td>...</td>\n",
       "      <td>...</td>\n",
       "    </tr>\n",
       "    <tr>\n",
       "      <th>1560</th>\n",
       "      <td>SE</td>\n",
       "      <td>FT</td>\n",
       "      <td>Machine Learning Engineer</td>\n",
       "      <td>134500</td>\n",
       "      <td>hybrid</td>\n",
       "      <td>L</td>\n",
       "    </tr>\n",
       "    <tr>\n",
       "      <th>1561</th>\n",
       "      <td>MI</td>\n",
       "      <td>FT</td>\n",
       "      <td>Data Scientist</td>\n",
       "      <td>130000</td>\n",
       "      <td>hybrid</td>\n",
       "      <td>M</td>\n",
       "    </tr>\n",
       "    <tr>\n",
       "      <th>1562</th>\n",
       "      <td>MI</td>\n",
       "      <td>FT</td>\n",
       "      <td>Data Scientist</td>\n",
       "      <td>90000</td>\n",
       "      <td>hybrid</td>\n",
       "      <td>M</td>\n",
       "    </tr>\n",
       "    <tr>\n",
       "      <th>1563</th>\n",
       "      <td>EN</td>\n",
       "      <td>FT</td>\n",
       "      <td>Data Engineer</td>\n",
       "      <td>160000</td>\n",
       "      <td>hybrid</td>\n",
       "      <td>M</td>\n",
       "    </tr>\n",
       "    <tr>\n",
       "      <th>1564</th>\n",
       "      <td>EN</td>\n",
       "      <td>FT</td>\n",
       "      <td>Data Engineer</td>\n",
       "      <td>135000</td>\n",
       "      <td>hybrid</td>\n",
       "      <td>M</td>\n",
       "    </tr>\n",
       "  </tbody>\n",
       "</table>\n",
       "<p>1057 rows × 6 columns</p>\n",
       "</div>"
      ],
      "text/plain": [
       "     experience_level employment_type                  job_title  \\\n",
       "2                  SE              FT          Applied Scientist   \n",
       "3                  SE              FT          Applied Scientist   \n",
       "4                  SE              FT             Data Scientist   \n",
       "5                  SE              FT             Data Scientist   \n",
       "8                  EN              FT          Applied Scientist   \n",
       "...               ...             ...                        ...   \n",
       "1560               SE              FT  Machine Learning Engineer   \n",
       "1561               MI              FT             Data Scientist   \n",
       "1562               MI              FT             Data Scientist   \n",
       "1563               EN              FT              Data Engineer   \n",
       "1564               EN              FT              Data Engineer   \n",
       "\n",
       "      salary_in_usd remote_ratio company_size  \n",
       "2            222200       hybrid            L  \n",
       "3            136000       hybrid            L  \n",
       "4            147100       hybrid            M  \n",
       "5             90700       hybrid            M  \n",
       "8            213660       hybrid            L  \n",
       "...             ...          ...          ...  \n",
       "1560         134500       hybrid            L  \n",
       "1561         130000       hybrid            M  \n",
       "1562          90000       hybrid            M  \n",
       "1563         160000       hybrid            M  \n",
       "1564         135000       hybrid            M  \n",
       "\n",
       "[1057 rows x 6 columns]"
      ]
     },
     "execution_count": 26,
     "metadata": {},
     "output_type": "execute_result"
    }
   ],
   "source": [
    "#Filter out the dataframe to have only hybrid type employees.\n",
    "df_hybrid = df[df['remote_ratio'] == \"hybrid\"]\n",
    "print(f'The filtered (hybrid) dataset the employee will sample from:')\n",
    "df_hybrid"
   ]
  },
  {
   "cell_type": "code",
   "execution_count": 27,
   "id": "b80e62fd",
   "metadata": {},
   "outputs": [],
   "source": [
    "#bootstrap method but with median as our statistic\n",
    "def bootstrap_median(original_sample, column_name, num_replications):\n",
    "    '''This function creates a bootstrap of medians of a certain column based on a specific sample\n",
    "        original_sample is our original sample used to create the bootstrap\n",
    "        column_name is our column we are interested in for the median\n",
    "        num_replications would the bootstrap size\n",
    "        returns an array of the bootstrap medians'''\n",
    "    \n",
    "    original_sample_size = original_sample.shape[0] # replicates with same size at the sample\n",
    "    original_sample_var_of_interest = original_sample[[column_name]] # filter out only the columns we are interested in\n",
    "    bstrap_medians = np.empty(num_replications)\n",
    "    for i in range(num_replications):\n",
    "        bootstrap_sample = original_sample_var_of_interest.sample(original_sample_size, replace=True) # note WITH REPLACEMENT!\n",
    "        resampled_median = np.percentile(bootstrap_sample,50 , method='higher')\n",
    "        bstrap_medians[i] = resampled_median\n",
    "    \n",
    "    return bstrap_medians"
   ]
  },
  {
   "cell_type": "code",
   "execution_count": 28,
   "id": "60bc2256",
   "metadata": {},
   "outputs": [],
   "source": [
    "#calculate our real median that the analyst isn't able to access\n",
    "observed_median = df['salary_in_usd'].median()"
   ]
  },
  {
   "cell_type": "code",
   "execution_count": 41,
   "id": "83d24e77",
   "metadata": {},
   "outputs": [],
   "source": [
    "#check if the true value falls within the simulated confidence intervals\n",
    "#using this method instead of packaging in functions in order to add an additional visulization\n",
    "'''This codebox contains code creates bootstraps calculates their CI of 95% confidence \n",
    "    and checks if our observed median is in the interval\n",
    "    \n",
    "    num_of_btsp is the amount of our bootstrap simulations\n",
    "    sample_size is the size of each sample\n",
    "    left_ends is an array containing all the lower bounds of our CI\n",
    "    right_ends is an array containing all the upper bounds of our CI\n",
    "    medians_in_interval contains 1 if our median is between our bounds and 0 otherwise for a given itteration\n",
    "\n",
    "'''\n",
    "left_ends = []            \n",
    "right_ends = []\n",
    "medians_in_interval = []\n",
    "num_of_btsp = 100\n",
    "sample_size = 150\n",
    "for i in range(num_of_btsp):\n",
    "    sample = df_hybrid.sample(sample_size,replace=False)\n",
    "    medians = bootstrap_median(sample, \"salary_in_usd\",5000)\n",
    "    left = np.percentile(medians,2.5,method=\"higher\")\n",
    "    left_ends.append(left)\n",
    "    right = np.percentile(medians,97.5,method=\"higher\")\n",
    "    right_ends.append(right)\n",
    "    medians_in_interval.append((observed_median >= left) and (observed_median <= right))"
   ]
  },
  {
   "cell_type": "code",
   "execution_count": 42,
   "id": "0bfcfb4d",
   "metadata": {},
   "outputs": [
    {
     "name": "stdout",
     "output_type": "stream",
     "text": [
      "In 96 out of 100 the observed median was inside the interval of confidence level 95%.\n"
     ]
    }
   ],
   "source": [
    "print(f'In {np.count_nonzero(medians_in_interval)} out of {num_of_btsp} the observed median was inside the interval of confidence level 95%.')"
   ]
  },
  {
   "cell_type": "markdown",
   "id": "042737fe",
   "metadata": {},
   "source": [
    "## <font color=green>Bonus Visualization </font>"
   ]
  },
  {
   "cell_type": "code",
   "execution_count": 43,
   "id": "5b78a4f1",
   "metadata": {},
   "outputs": [
    {
     "name": "stdout",
     "output_type": "stream",
     "text": [
      "\n"
     ]
    },
    {
     "data": {
      "image/png": "[encoded data removed]",
      "text/plain": [
       "<Figure size 700x1000 with 1 Axes>"
      ]
     },
     "metadata": {},
     "output_type": "display_data"
    }
   ],
   "source": [
    "fig = plt.figure(figsize=(7,10))\n",
    "ax = plt.axes()\n",
    "for i in np.arange(100):\n",
    "    plt.hlines(i+1,left_ends[i],right_ends[i],colors='orange',linestyles='solid')\n",
    "plt.vlines(observed_median, ymin=0 , ymax=i+1, colors ='red') #creates a line describing the observed median\n",
    "ax.set(xlabel='salary in usd',ylabel='replication',title=\"Observed Real Median in Hybrid Bootstrap CI of confidence 95%\")\n",
    "print('') #buffer to prevent ax text from appearing"
   ]
  },
  {
   "cell_type": "markdown",
   "id": "5676198d",
   "metadata": {},
   "source": [
    "### <font color=teal> Subquestion 2 </font>"
   ]
  },
  {
   "cell_type": "markdown",
   "id": "404ef9cf",
   "metadata": {},
   "source": [
    "**The data analyst used a sample that wasn't taken at random from the same population that he is testing (but from another population). In spite of that, does the theoretical gurantee of the bootstrap method? Explain your reasoning.**"
   ]
  },
  {
   "cell_type": "markdown",
   "id": "97633c62",
   "metadata": {},
   "source": [
    "The answer depends but in general: <b> No </b>, there is no theoretical gurantee of the bootstrap method if the sample that was taken is not from the same population that the data analyst is testing. \n",
    "\n",
    "\n",
    "One of the guiding principles behind the bootstrap method is the assumption that the sample we drew represents the population we are testing. Assuming such an assumption (and other such as sufficently sized sample size) is true, we are able to indirectly draw infinetly from the original population. Which in turn, would let us find approximations about said population.\n",
    "\n",
    "However, since the data analyst drew from a seperate population, there is no gurantee that the sample he drew represents in any form the \"data related employees\" , even if the data analyst drew from a subset of a data employees (as in any specific attribute) there is no gurantee it wont skew his results.\n",
    "\n",
    "**<font color=purple> Side note </font>**: The chance the bootstrap does work is the case the second population happens to distribute similarly as the population he is testing. In regards to a specific statistic function, if the parameter is \"relatively\" close to the actual real parameter (A rather surprising example would be subquestion 3 of this question ). "
   ]
  },
  {
   "cell_type": "markdown",
   "id": "37a4294a",
   "metadata": {},
   "source": [
    "### <font color=teal> Subquestion 3 </font>"
   ]
  },
  {
   "cell_type": "markdown",
   "id": "b0fe2edc",
   "metadata": {},
   "source": [
    "**How would your answers change in Subquestion A and B if the data analysis company would like to know the quarter salary of the employees working in the field (as in , instead of calculating the median , the data analyst would calculate the first quarter of the salaries). Explain your reasoning.**\n",
    "\n",
    "**<font color=purple> Hint </font>**: Draw the distribution of salaries or their sum for two different employee groups."
   ]
  },
  {
   "cell_type": "code",
   "execution_count": 32,
   "id": "60defa31",
   "metadata": {},
   "outputs": [
    {
     "data": {
      "text/plain": [
       "<seaborn.axisgrid.FacetGrid at 0x23e084f8a00>"
      ]
     },
     "execution_count": 32,
     "metadata": {},
     "output_type": "execute_result"
    },
    {
     "data": {
      "image/png": "[encoded data removed]",
      "text/plain": [
       "<Figure size 600x300 with 2 Axes>"
      ]
     },
     "metadata": {},
     "output_type": "display_data"
    }
   ],
   "source": [
    "#Seperates and draws two histograms for salary size per remote type.\n",
    "salary_distribution = sns.FacetGrid(df,col=\"remote_ratio\")\n",
    "salary_distribution.map(sns.histplot, \"salary_in_usd\")"
   ]
  },
  {
   "cell_type": "code",
   "execution_count": 33,
   "id": "63b4f7ab",
   "metadata": {},
   "outputs": [
    {
     "name": "stdout",
     "output_type": "stream",
     "text": [
      "The first quarter of all employees is 120000.\n",
      "The first quarter of hybrid employees is 120000.\n"
     ]
    }
   ],
   "source": [
    "#Print the first quarter of both employee types.\n",
    "print(f'The first quarter of all employees is {np.percentile(df[\"salary_in_usd\"], 25,method = \"higher\")}.')\n",
    "print(f'The first quarter of hybrid employees is {np.percentile(df_hybrid[\"salary_in_usd\"], 25,method = \"higher\")}.')"
   ]
  },
  {
   "cell_type": "markdown",
   "id": "4e91865a",
   "metadata": {},
   "source": [
    "**<font color=#FF5F1F>Claim </font>**: It seems both quarters are of the same value therefore even if we mix between the two group for the statistic quarter <font color=red> ONLY </font> we should expect to see it the exact same amount of times in our bootstrap's CI as we would see it if we selected the correct group, the reason for that being is that as we create bootstraps of one group we would expect to see their statistic test in the bootstraps 95% of the time but as the values are identical this would mean the other group's statistic test would also show the exact amount of time.\n",
    "\n",
    "As a demonstration  let's test the idea out by creating bootstraps similar to question 4-1A."
   ]
  },
  {
   "cell_type": "code",
   "execution_count": 34,
   "id": "93c35a6a",
   "metadata": {},
   "outputs": [],
   "source": [
    "#boostrap method but with quarter as the statistic\n",
    "def bootstrap_quarter(original_sample, column_name, num_replications):\n",
    "    '''This function creates a bootstrap of quarter of a certain column based on a specific sample\n",
    "        original_sample is our original sample used to create the bootstrap\n",
    "        column_name is our column we are interested in for the quarter\n",
    "        num_replications would the bootstrap size\n",
    "        returns an array of the bootstrap quarter'''\n",
    "    \n",
    "    original_sample_size = original_sample.shape[0] \n",
    "    original_sample_var_of_interest = original_sample[[column_name]]\n",
    "    bstrap_quarters = np.empty(num_replications)\n",
    "    for i in range(num_replications):\n",
    "        bootstrap_sample = original_sample_var_of_interest.sample(original_sample_size, replace=True) #create a bootstrap sample\n",
    "        resampled_quarter = np.percentile(bootstrap_sample[column_name],25,method='higher') #calculate quarter\n",
    "        bstrap_quarters[i] = resampled_quarter       \n",
    "        \n",
    "    return bstrap_quarters\n"
   ]
  },
  {
   "cell_type": "code",
   "execution_count": 35,
   "id": "7f0e95ae",
   "metadata": {},
   "outputs": [],
   "source": [
    "#calculate our real quarter that the analyst isn't able to access\n",
    "observed_quarter = np.percentile(df['salary_in_usd'] , 25 , method = \"higher\")"
   ]
  },
  {
   "cell_type": "code",
   "execution_count": 36,
   "id": "f09ca93c",
   "metadata": {},
   "outputs": [],
   "source": [
    "#Generating 100 bootstraps with CI and static quarter of confidence 95% from hybrid dataframe \n",
    "#Much like subquestion 4-1A except we are using a different statistic - first quarter\n",
    "#Not paackaged into one function in order to use all 3 arrays for visualzations\n",
    "'''This codebox contains code creates bootstraps calculates their CI of 95% confidence \n",
    "    and checks if our observed quarter is in the interval\n",
    "    \n",
    "    num_of_btsp is the amount of our bootstrap simulations\n",
    "    sample_size is the size of each sample\n",
    "    left_ends is an array containing all the lower bounds of our CI\n",
    "    right_ends is an array containing all the upper bounds of our CI\n",
    "    medians_in_interval contains 1 if our quarter is between our bounds and 0 otherwise for a given itteration\n",
    "\n",
    "'''\n",
    "left_ends = []\n",
    "right_ends = []\n",
    "quarters_in_interval = []\n",
    "num_of_btsp = 100\n",
    "sample_size = 150\n",
    "for i in range(num_of_btsp):\n",
    "    sample = df_hybrid.sample(sample_size,replace=False)\n",
    "    quarters = bootstrap_quarter(sample, \"salary_in_usd\",5000)\n",
    "    left = np.percentile(quarters,2.5,method=\"higher\")\n",
    "    left_ends.append(left)\n",
    "    right = np.percentile(quarters,97.5,method=\"higher\")\n",
    "    right_ends.append(right)\n",
    "    quarters_in_interval.append((observed_quarter >= left) and (observed_quarter <= right))"
   ]
  },
  {
   "cell_type": "code",
   "execution_count": 37,
   "id": "54d60d06",
   "metadata": {},
   "outputs": [
    {
     "name": "stdout",
     "output_type": "stream",
     "text": [
      "In 95 out of 100 times the observed quarter was inside the interval of CI 95%.\n"
     ]
    }
   ],
   "source": [
    "print(f'In {np.count_nonzero(medians_in_interval)} out of {num_of_btsp} times the observed quarter was inside the interval of CI 95%.')"
   ]
  },
  {
   "cell_type": "markdown",
   "id": "bfd76f49",
   "metadata": {},
   "source": [
    "## <font color=green>Bonus Visualization </font>"
   ]
  },
  {
   "cell_type": "code",
   "execution_count": 40,
   "id": "0755ae92",
   "metadata": {},
   "outputs": [
    {
     "name": "stdout",
     "output_type": "stream",
     "text": [
      "\n"
     ]
    },
    {
     "data": {
      "image/png": "[encoded data removed]",
      "text/plain": [
       "<Figure size 700x1000 with 1 Axes>"
      ]
     },
     "metadata": {},
     "output_type": "display_data"
    }
   ],
   "source": [
    "#Present a visualisation that depicts the amount of times the quarter was inside the bootstrap.\n",
    "fig = plt.figure(figsize=(7,10))\n",
    "ax = plt.axes()\n",
    "for i in np.arange(100):\n",
    "    plt.hlines(i+1,left_ends[i],right_ends[i],colors='orange',linestyles='solid')\n",
    "plt.vlines(observed_quarter, ymin=0 , ymax=i+1, colors ='red') #creates a line describing the observed median\n",
    "ax.set(xlabel='salary in usd',ylabel='replication',title=\"Observed Real Quarter in Hybrid Bootstrap CI of confidence 95%\")\n",
    "print('') #buffer to prevent ax text from appearing"
   ]
  },
  {
   "cell_type": "markdown",
   "id": "059f9578",
   "metadata": {},
   "source": [
    "# <font color = red>  Part Two - Racism in the American Judiciary System </font>"
   ]
  },
  {
   "cell_type": "markdown",
   "id": "08fcfa6d",
   "metadata": {},
   "source": [
    "## <font color=blue> Question One </font>  "
   ]
  },
  {
   "cell_type": "markdown",
   "id": "6211cc9f",
   "metadata": {},
   "source": [
    "**In 2~4 short sentences explain why it is problematic to use bootstraps to calculate confidence intervals using very small sample sizes.**"
   ]
  },
  {
   "cell_type": "markdown",
   "id": "a602ec81",
   "metadata": {},
   "source": [
    "As previously mentioned in <font color=teal> Part 1 - Question 4 Subquestion 2</font> the theoretical background of bootstraps rely on large sample sizes picked at random in order to simulate the distribution of the population we are attempting to test. Using small sample sizes amplifies the variance / \"noise\" of the sample which in turn would hinder its ability to mimic the qualities our original unreachable population has.  "
   ]
  },
  {
   "cell_type": "markdown",
   "id": "12e0de96",
   "metadata": {},
   "source": [
    "## <font color=blue> Question Two </font>  "
   ]
  },
  {
   "cell_type": "markdown",
   "id": "d549ce12",
   "metadata": {},
   "source": [
    "**<font color=#FF5F1F> Background </font>**: **Researchers in the US examined the effect race has on judgets's death penalty verdict during trialing a person who had been accused of murder.**\n",
    "\n",
    "**The researchers have found there's a seems to be a difference whether or not the victim's race had been taken in consideriation or not. While considering the race of the victim, black convicts are sentenced the death penalty more often than white people. However, when not considering the race of the victim black people are sentenced the death penalty less than white people.**"
   ]
  },
  {
   "cell_type": "markdown",
   "id": "25af1c1e",
   "metadata": {},
   "source": [
    "### <font color=teal> Subquestion 1 </font> "
   ]
  },
  {
   "cell_type": "markdown",
   "id": "e5e2fc80",
   "metadata": {},
   "source": [
    "**Which statistical phenomenon could explain the gap between the results whether we consider the race of the victim and when we do not?**"
   ]
  },
  {
   "cell_type": "markdown",
   "id": "0604428c",
   "metadata": {},
   "source": [
    "The difference in the gap could be explained by the phenomenon **\"<font color=#FF5F1F>Simpson's Paradox </font>\"**.\n",
    "\n",
    "**<font color=#FF5F1F>Simpson's Paradox </font>** is a paradox that claims that there could always be a new frame in which we could observe our data that would completely shift our conclusion.\n",
    "\n",
    "\n",
    "For example, in this specific dataset:\n",
    "\n",
    "\n",
    "Without including the race of the victim the conclusion we might reach would be \"The judges are biased against black people\"\n",
    "\n",
    "\n",
    "However, when we do include the race of the victim it would appear that the judges are actually biased against white people."
   ]
  },
  {
   "cell_type": "markdown",
   "id": "e105e8e8",
   "metadata": {},
   "source": [
    "### <font color=teal> Subquestion 2 </font>"
   ]
  },
  {
   "cell_type": "markdown",
   "id": "0643c2aa",
   "metadata": {},
   "source": [
    "### <font color=teal> Sub 1 of Subquestion 2 </font>"
   ]
  },
  {
   "cell_type": "markdown",
   "id": "c15c0aa6",
   "metadata": {},
   "source": [
    "**Which tendecy of the judges could explain the gap in the results?** \n",
    "\n",
    "**<font color=purple> Hint </font>**: Which scenario would more likely result a death sentence?"
   ]
  },
  {
   "cell_type": "markdown",
   "id": "e11d2cb8",
   "metadata": {},
   "source": [
    "There are a couple of factors that might bias a judge to verdict a death sentence in different proprotions to black and white people.\n",
    "\n",
    "**<font color=#FF5F1F> Background for the crime </font>**: It could be the case that whenever black people commit murder they do so for backgrounds that are far less heinous than their white counterpart(An example for this would be recent rise of white school shooters). As we assume the death verdict would be given if and only if there is concrete evidence to the crime and the crime is beyond reasonable of a doubt of malicious heinous intent, this would result in black people given the death sentence less often.\n",
    "\n",
    "**<font color=#FF5F1F> Racism </font>**: It could also be a simple fact that although the US is perceived to be racist against people of color, in reality they are racially biased against white people therefore white people are given the death sentence more often than their black counter-part."
   ]
  },
  {
   "cell_type": "markdown",
   "id": "9625c3b9",
   "metadata": {},
   "source": [
    "### <font color=teal> Sub 2 of Subquestion 2 </font>"
   ]
  },
  {
   "cell_type": "markdown",
   "id": "8bc4b010",
   "metadata": {},
   "source": [
    "**Which tendecy of the convicts could explain the gap in the results?** \n",
    "\n",
    "**<font color=purple> Hint </font>**: What is the relation between the race of the victim and the convicts race?"
   ]
  },
  {
   "cell_type": "markdown",
   "id": "828b09ea",
   "metadata": {},
   "source": [
    "Based on the data presented when seperated to race it would appear that black people are sentenced to death more often than white people when they are convicted of murder. There are a few explanations that could explain these statistics.\n",
    "\n",
    "**<font color=#FF5F1F> Frequency </font>**: When looking at the chart it seems apparent that mixed race crimes murders are rather uncommon . When we compare the death verdict sentence rate per convict race per victim race it gives us the impression that black people are inpropertionally given the death sentence compared to white people. However, in reality it could be the case that because these cross racial murders are rather infrequent (when looking at the overall count) it could be the case that these exact murders were unique in some sort of a way that made the judge rule the way that he did.\n"
   ]
  }
 ],
 "metadata": {
  "kernelspec": {
   "display_name": "Python 3 (ipykernel)",
   "language": "python",
   "name": "python3"
  },
  "language_info": {
   "codemirror_mode": {
    "name": "ipython",
    "version": 3
   },
   "file_extension": ".py",
   "mimetype": "text/x-python",
   "name": "python",
   "nbconvert_exporter": "python",
   "pygments_lexer": "ipython3",
   "version": "3.9.13"
  }
 },
 "nbformat": 4,
 "nbformat_minor": 5
}
